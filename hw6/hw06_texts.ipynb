{
  "cells": [
    {
      "cell_type": "markdown",
      "metadata": {
        "id": "Ffq6A2-ifzAA"
      },
      "source": [
        "# Интеллектуальный анализ данных – весна 2025\n",
        "# Домашнее задание 6: классификация текстов"
      ]
    },
    {
      "cell_type": "markdown",
      "source": [
        "Правила:\n",
        "\n",
        "\n",
        "\n",
        "*   Домашнее задание оценивается в 10 баллов.\n",
        "*   Можно использовать без доказательства любые результаты, встречавшиеся на лекциях или семинарах по курсу, если получение этих результатов не является вопросом задания.\n",
        "*  Можно использовать любые свободные источники с *обязательным* указанием ссылки на них.\n",
        "*  Плагиат не допускается. При обнаружении случаев списывания, 0 за работу выставляется всем участникам нарушения, даже если можно установить, кто у кого списал.\n",
        "*  Старайтесь сделать код как можно более оптимальным. В частности, будет штрафоваться использование циклов в тех случаях, когда операцию можно совершить при помощи инструментов библиотек, о которых рассказывалось в курсе.\n",
        "* Если в задании есть вопрос на рассуждение, то за отсутствие ответа на него балл за задание будет снижен вполовину."
      ],
      "metadata": {
        "id": "EPcxtekTA1Sm"
      }
    },
    {
      "cell_type": "markdown",
      "metadata": {
        "id": "itRtFtrOf0_b"
      },
      "source": [
        "В этом домашнем задании вам предстоит построить классификатор текстов.\n",
        "\n",
        "Будем предсказывать эмоциональную окраску твиттов о коронавирусе.\n",
        "\n"
      ]
    },
    {
      "cell_type": "code",
      "metadata": {
        "id": "tNGRVO7_g9mz",
        "ExecuteTime": {
          "end_time": "2025-05-06T16:12:46.106822Z",
          "start_time": "2025-05-06T16:12:46.101780Z"
        }
      },
      "source": [
        "import numpy as np\n",
        "import pandas as pd\n",
        "from typing import List\n",
        "import matplotlib.pyplot as plt\n",
        "import seaborn as sns\n",
        "from string import punctuation"
      ],
      "outputs": [],
      "execution_count": 355
    },
    {
      "cell_type": "code",
      "metadata": {
        "id": "zOy8iHJQg_Ss",
        "ExecuteTime": {
          "end_time": "2025-05-06T16:12:46.595190Z",
          "start_time": "2025-05-06T16:12:46.497274Z"
        },
        "collapsed": true
      },
      "source": [
        "df = pd.read_csv('tweets_coronavirus.csv', encoding='latin-1')\n",
        "df.sample(4)"
      ],
      "outputs": [],
      "execution_count": 356
    },
    {
      "cell_type": "code",
      "source": [
        "#алтернативный способ подключения\n",
        "url = 'https://drive.google.com/file/d/1NssWzVsRADr_EhDhZR9iE3Jo6guq3uYB/view?usp=share_link'\n",
        "url='https://drive.google.com/uc?id=' + url.split('/')[-2]\n",
        "df = pd.read_csv(url)\n",
        "df.sample(4)"
      ],
      "metadata": {
        "colab": {
          "base_uri": "https://localhost:8080/",
          "height": 173
        },
        "id": "Z4z0tKTKgcud",
        "outputId": "4b0168a9-d1e7-4777-d0f5-e84e7a801bf2"
      },
      "execution_count": 357,
      "outputs": [
        {
          "output_type": "execute_result",
          "data": {
            "text/plain": [
              "       UserName  ScreenName                 Location     TweetAt  \\\n",
              "12075     18445       63397  England, United Kingdom  21-03-2020   \n",
              "6635      11861       56813                 Bankside  19-03-2020   \n",
              "2975       7403       52355             New York, NY  18-03-2020   \n",
              "25715     35299       80251                      NaN  06-04-2020   \n",
              "\n",
              "                                           OriginalTweet           Sentiment  \n",
              "12075  @MarcS1503 Why the fuck should I ? They've bee...  Extremely Negative  \n",
              "6635   Coronavirus: Minister says there 'isn't a shor...  Extremely Negative  \n",
              "2975   This data is evolving quickly, so we will be p...            Positive  \n",
              "25715  Pandemic profiteers run up prices on masks for...            Positive  "
            ],
            "text/html": [
              "\n",
              "  <div id=\"df-23deb8bf-39d3-4b66-93af-49f125a1557a\" class=\"colab-df-container\">\n",
              "    <div>\n",
              "<style scoped>\n",
              "    .dataframe tbody tr th:only-of-type {\n",
              "        vertical-align: middle;\n",
              "    }\n",
              "\n",
              "    .dataframe tbody tr th {\n",
              "        vertical-align: top;\n",
              "    }\n",
              "\n",
              "    .dataframe thead th {\n",
              "        text-align: right;\n",
              "    }\n",
              "</style>\n",
              "<table border=\"1\" class=\"dataframe\">\n",
              "  <thead>\n",
              "    <tr style=\"text-align: right;\">\n",
              "      <th></th>\n",
              "      <th>UserName</th>\n",
              "      <th>ScreenName</th>\n",
              "      <th>Location</th>\n",
              "      <th>TweetAt</th>\n",
              "      <th>OriginalTweet</th>\n",
              "      <th>Sentiment</th>\n",
              "    </tr>\n",
              "  </thead>\n",
              "  <tbody>\n",
              "    <tr>\n",
              "      <th>12075</th>\n",
              "      <td>18445</td>\n",
              "      <td>63397</td>\n",
              "      <td>England, United Kingdom</td>\n",
              "      <td>21-03-2020</td>\n",
              "      <td>@MarcS1503 Why the fuck should I ? They've bee...</td>\n",
              "      <td>Extremely Negative</td>\n",
              "    </tr>\n",
              "    <tr>\n",
              "      <th>6635</th>\n",
              "      <td>11861</td>\n",
              "      <td>56813</td>\n",
              "      <td>Bankside</td>\n",
              "      <td>19-03-2020</td>\n",
              "      <td>Coronavirus: Minister says there 'isn't a shor...</td>\n",
              "      <td>Extremely Negative</td>\n",
              "    </tr>\n",
              "    <tr>\n",
              "      <th>2975</th>\n",
              "      <td>7403</td>\n",
              "      <td>52355</td>\n",
              "      <td>New York, NY</td>\n",
              "      <td>18-03-2020</td>\n",
              "      <td>This data is evolving quickly, so we will be p...</td>\n",
              "      <td>Positive</td>\n",
              "    </tr>\n",
              "    <tr>\n",
              "      <th>25715</th>\n",
              "      <td>35299</td>\n",
              "      <td>80251</td>\n",
              "      <td>NaN</td>\n",
              "      <td>06-04-2020</td>\n",
              "      <td>Pandemic profiteers run up prices on masks for...</td>\n",
              "      <td>Positive</td>\n",
              "    </tr>\n",
              "  </tbody>\n",
              "</table>\n",
              "</div>\n",
              "    <div class=\"colab-df-buttons\">\n",
              "\n",
              "  <div class=\"colab-df-container\">\n",
              "    <button class=\"colab-df-convert\" onclick=\"convertToInteractive('df-23deb8bf-39d3-4b66-93af-49f125a1557a')\"\n",
              "            title=\"Convert this dataframe to an interactive table.\"\n",
              "            style=\"display:none;\">\n",
              "\n",
              "  <svg xmlns=\"http://www.w3.org/2000/svg\" height=\"24px\" viewBox=\"0 -960 960 960\">\n",
              "    <path d=\"M120-120v-720h720v720H120Zm60-500h600v-160H180v160Zm220 220h160v-160H400v160Zm0 220h160v-160H400v160ZM180-400h160v-160H180v160Zm440 0h160v-160H620v160ZM180-180h160v-160H180v160Zm440 0h160v-160H620v160Z\"/>\n",
              "  </svg>\n",
              "    </button>\n",
              "\n",
              "  <style>\n",
              "    .colab-df-container {\n",
              "      display:flex;\n",
              "      gap: 12px;\n",
              "    }\n",
              "\n",
              "    .colab-df-convert {\n",
              "      background-color: #E8F0FE;\n",
              "      border: none;\n",
              "      border-radius: 50%;\n",
              "      cursor: pointer;\n",
              "      display: none;\n",
              "      fill: #1967D2;\n",
              "      height: 32px;\n",
              "      padding: 0 0 0 0;\n",
              "      width: 32px;\n",
              "    }\n",
              "\n",
              "    .colab-df-convert:hover {\n",
              "      background-color: #E2EBFA;\n",
              "      box-shadow: 0px 1px 2px rgba(60, 64, 67, 0.3), 0px 1px 3px 1px rgba(60, 64, 67, 0.15);\n",
              "      fill: #174EA6;\n",
              "    }\n",
              "\n",
              "    .colab-df-buttons div {\n",
              "      margin-bottom: 4px;\n",
              "    }\n",
              "\n",
              "    [theme=dark] .colab-df-convert {\n",
              "      background-color: #3B4455;\n",
              "      fill: #D2E3FC;\n",
              "    }\n",
              "\n",
              "    [theme=dark] .colab-df-convert:hover {\n",
              "      background-color: #434B5C;\n",
              "      box-shadow: 0px 1px 3px 1px rgba(0, 0, 0, 0.15);\n",
              "      filter: drop-shadow(0px 1px 2px rgba(0, 0, 0, 0.3));\n",
              "      fill: #FFFFFF;\n",
              "    }\n",
              "  </style>\n",
              "\n",
              "    <script>\n",
              "      const buttonEl =\n",
              "        document.querySelector('#df-23deb8bf-39d3-4b66-93af-49f125a1557a button.colab-df-convert');\n",
              "      buttonEl.style.display =\n",
              "        google.colab.kernel.accessAllowed ? 'block' : 'none';\n",
              "\n",
              "      async function convertToInteractive(key) {\n",
              "        const element = document.querySelector('#df-23deb8bf-39d3-4b66-93af-49f125a1557a');\n",
              "        const dataTable =\n",
              "          await google.colab.kernel.invokeFunction('convertToInteractive',\n",
              "                                                    [key], {});\n",
              "        if (!dataTable) return;\n",
              "\n",
              "        const docLinkHtml = 'Like what you see? Visit the ' +\n",
              "          '<a target=\"_blank\" href=https://colab.research.google.com/notebooks/data_table.ipynb>data table notebook</a>'\n",
              "          + ' to learn more about interactive tables.';\n",
              "        element.innerHTML = '';\n",
              "        dataTable['output_type'] = 'display_data';\n",
              "        await google.colab.output.renderOutput(dataTable, element);\n",
              "        const docLink = document.createElement('div');\n",
              "        docLink.innerHTML = docLinkHtml;\n",
              "        element.appendChild(docLink);\n",
              "      }\n",
              "    </script>\n",
              "  </div>\n",
              "\n",
              "\n",
              "    <div id=\"df-762d72a5-7b66-4e82-836f-b50ede839b0f\">\n",
              "      <button class=\"colab-df-quickchart\" onclick=\"quickchart('df-762d72a5-7b66-4e82-836f-b50ede839b0f')\"\n",
              "                title=\"Suggest charts\"\n",
              "                style=\"display:none;\">\n",
              "\n",
              "<svg xmlns=\"http://www.w3.org/2000/svg\" height=\"24px\"viewBox=\"0 0 24 24\"\n",
              "     width=\"24px\">\n",
              "    <g>\n",
              "        <path d=\"M19 3H5c-1.1 0-2 .9-2 2v14c0 1.1.9 2 2 2h14c1.1 0 2-.9 2-2V5c0-1.1-.9-2-2-2zM9 17H7v-7h2v7zm4 0h-2V7h2v10zm4 0h-2v-4h2v4z\"/>\n",
              "    </g>\n",
              "</svg>\n",
              "      </button>\n",
              "\n",
              "<style>\n",
              "  .colab-df-quickchart {\n",
              "      --bg-color: #E8F0FE;\n",
              "      --fill-color: #1967D2;\n",
              "      --hover-bg-color: #E2EBFA;\n",
              "      --hover-fill-color: #174EA6;\n",
              "      --disabled-fill-color: #AAA;\n",
              "      --disabled-bg-color: #DDD;\n",
              "  }\n",
              "\n",
              "  [theme=dark] .colab-df-quickchart {\n",
              "      --bg-color: #3B4455;\n",
              "      --fill-color: #D2E3FC;\n",
              "      --hover-bg-color: #434B5C;\n",
              "      --hover-fill-color: #FFFFFF;\n",
              "      --disabled-bg-color: #3B4455;\n",
              "      --disabled-fill-color: #666;\n",
              "  }\n",
              "\n",
              "  .colab-df-quickchart {\n",
              "    background-color: var(--bg-color);\n",
              "    border: none;\n",
              "    border-radius: 50%;\n",
              "    cursor: pointer;\n",
              "    display: none;\n",
              "    fill: var(--fill-color);\n",
              "    height: 32px;\n",
              "    padding: 0;\n",
              "    width: 32px;\n",
              "  }\n",
              "\n",
              "  .colab-df-quickchart:hover {\n",
              "    background-color: var(--hover-bg-color);\n",
              "    box-shadow: 0 1px 2px rgba(60, 64, 67, 0.3), 0 1px 3px 1px rgba(60, 64, 67, 0.15);\n",
              "    fill: var(--button-hover-fill-color);\n",
              "  }\n",
              "\n",
              "  .colab-df-quickchart-complete:disabled,\n",
              "  .colab-df-quickchart-complete:disabled:hover {\n",
              "    background-color: var(--disabled-bg-color);\n",
              "    fill: var(--disabled-fill-color);\n",
              "    box-shadow: none;\n",
              "  }\n",
              "\n",
              "  .colab-df-spinner {\n",
              "    border: 2px solid var(--fill-color);\n",
              "    border-color: transparent;\n",
              "    border-bottom-color: var(--fill-color);\n",
              "    animation:\n",
              "      spin 1s steps(1) infinite;\n",
              "  }\n",
              "\n",
              "  @keyframes spin {\n",
              "    0% {\n",
              "      border-color: transparent;\n",
              "      border-bottom-color: var(--fill-color);\n",
              "      border-left-color: var(--fill-color);\n",
              "    }\n",
              "    20% {\n",
              "      border-color: transparent;\n",
              "      border-left-color: var(--fill-color);\n",
              "      border-top-color: var(--fill-color);\n",
              "    }\n",
              "    30% {\n",
              "      border-color: transparent;\n",
              "      border-left-color: var(--fill-color);\n",
              "      border-top-color: var(--fill-color);\n",
              "      border-right-color: var(--fill-color);\n",
              "    }\n",
              "    40% {\n",
              "      border-color: transparent;\n",
              "      border-right-color: var(--fill-color);\n",
              "      border-top-color: var(--fill-color);\n",
              "    }\n",
              "    60% {\n",
              "      border-color: transparent;\n",
              "      border-right-color: var(--fill-color);\n",
              "    }\n",
              "    80% {\n",
              "      border-color: transparent;\n",
              "      border-right-color: var(--fill-color);\n",
              "      border-bottom-color: var(--fill-color);\n",
              "    }\n",
              "    90% {\n",
              "      border-color: transparent;\n",
              "      border-bottom-color: var(--fill-color);\n",
              "    }\n",
              "  }\n",
              "</style>\n",
              "\n",
              "      <script>\n",
              "        async function quickchart(key) {\n",
              "          const quickchartButtonEl =\n",
              "            document.querySelector('#' + key + ' button');\n",
              "          quickchartButtonEl.disabled = true;  // To prevent multiple clicks.\n",
              "          quickchartButtonEl.classList.add('colab-df-spinner');\n",
              "          try {\n",
              "            const charts = await google.colab.kernel.invokeFunction(\n",
              "                'suggestCharts', [key], {});\n",
              "          } catch (error) {\n",
              "            console.error('Error during call to suggestCharts:', error);\n",
              "          }\n",
              "          quickchartButtonEl.classList.remove('colab-df-spinner');\n",
              "          quickchartButtonEl.classList.add('colab-df-quickchart-complete');\n",
              "        }\n",
              "        (() => {\n",
              "          let quickchartButtonEl =\n",
              "            document.querySelector('#df-762d72a5-7b66-4e82-836f-b50ede839b0f button');\n",
              "          quickchartButtonEl.style.display =\n",
              "            google.colab.kernel.accessAllowed ? 'block' : 'none';\n",
              "        })();\n",
              "      </script>\n",
              "    </div>\n",
              "\n",
              "    </div>\n",
              "  </div>\n"
            ],
            "application/vnd.google.colaboratory.intrinsic+json": {
              "type": "dataframe",
              "repr_error": "0"
            }
          },
          "metadata": {},
          "execution_count": 357
        }
      ]
    },
    {
      "cell_type": "markdown",
      "metadata": {
        "id": "m2OiDog9ZBlS"
      },
      "source": [
        "Для каждого твитта указано:\n",
        "\n",
        "\n",
        "*   UserName - имя пользователя, заменено на целое число для анонимности\n",
        "*   ScreenName - отображающееся имя пользователя, заменено на целое число для анонимности\n",
        "*   Location - местоположение\n",
        "*   TweetAt - дата создания твитта\n",
        "*   OriginalTweet - текст твитта\n",
        "*   Sentiment - эмоциональная окраска твитта (целевая переменная)\n",
        "\n"
      ]
    },
    {
      "cell_type": "markdown",
      "metadata": {
        "id": "Xx2-odn9hdAW"
      },
      "source": [
        "Целевая переменная находится в колонке `Sentiment`.  Преобразуйте ее таким образом, чтобы она стала бинарной: 1 - если у твитта положительная или очень положительная эмоциональная окраска и 0 - если отрицательная или очень отрицательная."
      ]
    },
    {
      "cell_type": "code",
      "metadata": {
        "id": "ZaQKQ1zEjP15",
        "ExecuteTime": {
          "end_time": "2025-05-06T16:12:50.201562Z",
          "start_time": "2025-05-06T16:12:50.187040Z"
        }
      },
      "source": [
        "df['Sentiment'] = df['Sentiment'].apply(lambda x: 1 if x in ['Positive', 'Extremely Positive'] else 0)"
      ],
      "outputs": [],
      "execution_count": 358
    },
    {
      "cell_type": "markdown",
      "metadata": {
        "id": "pGq1FxJ-kBo5"
      },
      "source": [
        "Сбалансированы ли классы?"
      ]
    },
    {
      "cell_type": "code",
      "metadata": {
        "id": "a7gdNtxckK5V",
        "ExecuteTime": {
          "end_time": "2025-05-06T16:12:51.408485Z",
          "start_time": "2025-05-06T16:12:51.405028Z"
        },
        "colab": {
          "base_uri": "https://localhost:8080/",
          "height": 176
        },
        "outputId": "0d8c3d72-825d-4273-86c5-21ea2e4b5e39"
      },
      "source": [
        "df['Sentiment'].value_counts()"
      ],
      "outputs": [
        {
          "output_type": "execute_result",
          "data": {
            "text/plain": [
              "Sentiment\n",
              "1    18046\n",
              "0    15398\n",
              "Name: count, dtype: int64"
            ],
            "text/html": [
              "<div>\n",
              "<style scoped>\n",
              "    .dataframe tbody tr th:only-of-type {\n",
              "        vertical-align: middle;\n",
              "    }\n",
              "\n",
              "    .dataframe tbody tr th {\n",
              "        vertical-align: top;\n",
              "    }\n",
              "\n",
              "    .dataframe thead th {\n",
              "        text-align: right;\n",
              "    }\n",
              "</style>\n",
              "<table border=\"1\" class=\"dataframe\">\n",
              "  <thead>\n",
              "    <tr style=\"text-align: right;\">\n",
              "      <th></th>\n",
              "      <th>count</th>\n",
              "    </tr>\n",
              "    <tr>\n",
              "      <th>Sentiment</th>\n",
              "      <th></th>\n",
              "    </tr>\n",
              "  </thead>\n",
              "  <tbody>\n",
              "    <tr>\n",
              "      <th>1</th>\n",
              "      <td>18046</td>\n",
              "    </tr>\n",
              "    <tr>\n",
              "      <th>0</th>\n",
              "      <td>15398</td>\n",
              "    </tr>\n",
              "  </tbody>\n",
              "</table>\n",
              "</div><br><label><b>dtype:</b> int64</label>"
            ]
          },
          "metadata": {},
          "execution_count": 359
        }
      ],
      "execution_count": 359
    },
    {
      "cell_type": "markdown",
      "metadata": {
        "id": "Ng8BCelMkWb0"
      },
      "source": [
        "Да, они сбалансированы."
      ]
    },
    {
      "cell_type": "markdown",
      "metadata": {
        "id": "qmSIBSsLk5Zz"
      },
      "source": [
        "Выведете на экран информацию о пропусках в данных. Если пропуски присутствуют заполните их строкой 'Unknown'."
      ]
    },
    {
      "cell_type": "code",
      "metadata": {
        "id": "UhUVRkR5kxa7",
        "ExecuteTime": {
          "end_time": "2025-05-06T16:12:53.589705Z",
          "start_time": "2025-05-06T16:12:53.580177Z"
        },
        "colab": {
          "base_uri": "https://localhost:8080/",
          "height": 269
        },
        "outputId": "ba6f221a-a5dc-430c-b9d6-923ba156ef1d"
      },
      "source": [
        "# посмотрим есть ли пропуски\n",
        "df.isna().sum()"
      ],
      "outputs": [
        {
          "output_type": "execute_result",
          "data": {
            "text/plain": [
              "UserName            0\n",
              "ScreenName          0\n",
              "Location         7049\n",
              "TweetAt             0\n",
              "OriginalTweet       0\n",
              "Sentiment           0\n",
              "dtype: int64"
            ],
            "text/html": [
              "<div>\n",
              "<style scoped>\n",
              "    .dataframe tbody tr th:only-of-type {\n",
              "        vertical-align: middle;\n",
              "    }\n",
              "\n",
              "    .dataframe tbody tr th {\n",
              "        vertical-align: top;\n",
              "    }\n",
              "\n",
              "    .dataframe thead th {\n",
              "        text-align: right;\n",
              "    }\n",
              "</style>\n",
              "<table border=\"1\" class=\"dataframe\">\n",
              "  <thead>\n",
              "    <tr style=\"text-align: right;\">\n",
              "      <th></th>\n",
              "      <th>0</th>\n",
              "    </tr>\n",
              "  </thead>\n",
              "  <tbody>\n",
              "    <tr>\n",
              "      <th>UserName</th>\n",
              "      <td>0</td>\n",
              "    </tr>\n",
              "    <tr>\n",
              "      <th>ScreenName</th>\n",
              "      <td>0</td>\n",
              "    </tr>\n",
              "    <tr>\n",
              "      <th>Location</th>\n",
              "      <td>7049</td>\n",
              "    </tr>\n",
              "    <tr>\n",
              "      <th>TweetAt</th>\n",
              "      <td>0</td>\n",
              "    </tr>\n",
              "    <tr>\n",
              "      <th>OriginalTweet</th>\n",
              "      <td>0</td>\n",
              "    </tr>\n",
              "    <tr>\n",
              "      <th>Sentiment</th>\n",
              "      <td>0</td>\n",
              "    </tr>\n",
              "  </tbody>\n",
              "</table>\n",
              "</div><br><label><b>dtype:</b> int64</label>"
            ]
          },
          "metadata": {},
          "execution_count": 360
        }
      ],
      "execution_count": 360
    },
    {
      "metadata": {
        "ExecuteTime": {
          "end_time": "2025-05-06T16:12:54.445613Z",
          "start_time": "2025-05-06T16:12:54.432412Z"
        },
        "id": "7bKlQnOIgHOJ"
      },
      "cell_type": "code",
      "source": [
        "# пропуски имеются для Location заполним их\n",
        "df.fillna('Unknown', inplace=True)"
      ],
      "outputs": [],
      "execution_count": 361
    },
    {
      "cell_type": "markdown",
      "metadata": {
        "id": "1tzt27tfjUpq"
      },
      "source": [
        "Разделите данные на обучающие и тестовые в соотношении 7 : 3 и укажите `random_state=0`"
      ]
    },
    {
      "cell_type": "code",
      "metadata": {
        "id": "xSLOA9tIj9Z6",
        "ExecuteTime": {
          "end_time": "2025-05-06T16:27:49.967688Z",
          "start_time": "2025-05-06T16:27:49.275224Z"
        }
      },
      "source": [
        "from sklearn.model_selection import train_test_split\n",
        "\n",
        "train, test = train_test_split(df, test_size=0.3, random_state=0)"
      ],
      "outputs": [],
      "execution_count": 362
    },
    {
      "cell_type": "markdown",
      "metadata": {
        "id": "J9RrPUsJlL60"
      },
      "source": [
        "## Задание 2 Токенизация (3 балла)"
      ]
    },
    {
      "cell_type": "markdown",
      "metadata": {
        "id": "2Dz_b7Xopc_R"
      },
      "source": [
        "Постройте словарь на основе обучающей выборки и посчитайте количество встреч каждого токена с использованием самой простой токенизации - деления текстов по пробельным символам и приведения токенов в нижний регистр."
      ]
    },
    {
      "cell_type": "code",
      "metadata": {
        "id": "SFr67WOJphny",
        "ExecuteTime": {
          "end_time": "2025-05-06T16:28:04.251647Z",
          "start_time": "2025-05-06T16:28:04.048897Z"
        },
        "colab": {
          "base_uri": "https://localhost:8080/"
        },
        "outputId": "4245517f-4e87-433e-dc0b-7165f8dcd6d7"
      },
      "source": [
        "from collections import Counter\n",
        "\n",
        "tokens = []\n",
        "\n",
        "for tweet in train['OriginalTweet']:\n",
        "    tokens.extend(tweet.lower().split())\n",
        "\n",
        "token_counts = Counter(tokens)\n",
        "token_counts"
      ],
      "outputs": [
        {
          "output_type": "execute_result",
          "data": {
            "text/plain": [
              "Counter({'why': 654,\n",
              "         'we': 3787,\n",
              "         'still': 763,\n",
              "         'want': 487,\n",
              "         'to': 23373,\n",
              "         'buy': 748,\n",
              "         'so': 1837,\n",
              "         'much': 482,\n",
              "         'stuff': 106,\n",
              "         'during': 1908,\n",
              "         'quarantine': 154,\n",
              "         'https://t.co/1m881cwfuv': 1,\n",
              "         '#shopping': 121,\n",
              "         '#covid_19': 1660,\n",
              "         '#online': 40,\n",
              "         'with': 4063,\n",
              "         'driving': 77,\n",
              "         'even': 682,\n",
              "         'more': 2008,\n",
              "         'usage': 22,\n",
              "         'a': 11737,\n",
              "         'strong': 93,\n",
              "         'strategy': 33,\n",
              "         'is': 7383,\n",
              "         'critical': 156,\n",
              "         'now': 1349,\n",
              "         'then': 435,\n",
              "         'ever': 179,\n",
              "         'luckily': 8,\n",
              "         'and': 14684,\n",
              "         'april': 163,\n",
              "         '16': 36,\n",
              "         'webinar': 65,\n",
              "         'will': 2726,\n",
              "         'dive': 10,\n",
              "         'into': 666,\n",
              "         'growing': 84,\n",
              "         'app': 52,\n",
              "         'awareness': 32,\n",
              "         'targeting': 9,\n",
              "         'high': 408,\n",
              "         'lifetime': 4,\n",
              "         'value': 79,\n",
              "         'users': 19,\n",
              "         '@canon_india': 16,\n",
              "         'i': 5340,\n",
              "         'am': 424,\n",
              "         'very': 418,\n",
              "         'happy..': 1,\n",
              "         'great': 409,\n",
              "         'job': 242,\n",
              "         'by': 2236,\n",
              "         '#canonforcommunity': 5,\n",
              "         'https://t.co/z0intks34x': 1,\n",
              "         'the': 26815,\n",
              "         'u.s': 8,\n",
              "         'national': 123,\n",
              "         'debt': 68,\n",
              "         'likely': 170,\n",
              "         'exceed': 14,\n",
              "         '$30': 7,\n",
              "         'trillion': 21,\n",
              "         'after': 886,\n",
              "         'unprecedented': 89,\n",
              "         'borrowing': 5,\n",
              "         'trump': 228,\n",
              "         'administration': 38,\n",
              "         'mnuchinâ\\x92s': 1,\n",
              "         'treasury': 3,\n",
              "         '#coronavirus': 8223,\n",
              "         'crisis.': 162,\n",
              "         'federal': 99,\n",
              "         'reserve': 17,\n",
              "         'could': 640,\n",
              "         'be': 3570,\n",
              "         'doing': 508,\n",
              "         'cushion': 9,\n",
              "         'blow.': 4,\n",
              "         'consumer': 2245,\n",
              "         'led': 67,\n",
              "         'economy': 244,\n",
              "         'on': 5452,\n",
              "         'brink.': 1,\n",
              "         'finally': 91,\n",
              "         'got': 407,\n",
              "         'grocery': 3469,\n",
              "         'store.': 348,\n",
              "         'honestly,': 8,\n",
              "         'what': 1541,\n",
              "         'are': 7050,\n",
              "         'you': 5467,\n",
              "         'people': 3175,\n",
              "         'all': 2808,\n",
              "         'toilet': 824,\n",
              "         'paper?': 24,\n",
              "         'https://t.co/jmobv8z0u0': 1,\n",
              "         'friends:': 3,\n",
              "         'catholic': 7,\n",
              "         \"university's\": 1,\n",
              "         'food': 3820,\n",
              "         'service': 305,\n",
              "         'workers': 1242,\n",
              "         'have': 3770,\n",
              "         'been': 1081,\n",
              "         'laid': 50,\n",
              "         'off': 472,\n",
              "         'without': 301,\n",
              "         'pay.': 14,\n",
              "         '(by': 4,\n",
              "         'contrast,': 2,\n",
              "         'georgetown': 2,\n",
              "         'has': 2304,\n",
              "         'set': 146,\n",
              "         'an': 1417,\n",
              "         'example': 46,\n",
              "         'consistent': 7,\n",
              "         'social': 615,\n",
              "         'teaching.)': 1,\n",
              "         'please': 1061,\n",
              "         'sign': 106,\n",
              "         'rt.': 4,\n",
              "         '@catholicpres': 1,\n",
              "         '@catholicuniv': 1,\n",
              "         'https://t.co/evqby035wf': 1,\n",
              "         \"it's\": 571,\n",
              "         'times': 372,\n",
              "         'like': 1550,\n",
              "         'these': 922,\n",
              "         'understand': 151,\n",
              "         'of': 13012,\n",
              "         'bidet.': 2,\n",
              "         '#europe': 14,\n",
              "         '#bidet': 6,\n",
              "         '#toiletpaper': 691,\n",
              "         'regulatory': 11,\n",
              "         'litigation': 3,\n",
              "         'risks': 38,\n",
              "         'financial': 233,\n",
              "         'services': 263,\n",
              "         'providers': 38,\n",
              "         'highlighted': 9,\n",
              "         'in': 11198,\n",
              "         'ballard': 2,\n",
              "         'spahr': 2,\n",
              "         'covid-19': 3173,\n",
              "         'crisis': 713,\n",
              "         'fallout': 21,\n",
              "         'https://t.co/riqrhxxeim': 1,\n",
              "         'via': 687,\n",
              "         '@@ballardspahrll': 1,\n",
              "         '#training': 2,\n",
              "         '#aca': 1,\n",
              "         \"don't\": 551,\n",
              "         'panic': 1495,\n",
              "         'buying.': 77,\n",
              "         \"i've\": 157,\n",
              "         'struggled': 10,\n",
              "         'get': 1759,\n",
              "         'basics': 19,\n",
              "         'as': 3694,\n",
              "         'emptying': 29,\n",
              "         'shelves.': 79,\n",
              "         'sensible': 20,\n",
              "         \"aren't\": 61,\n",
              "         'shortage,': 13,\n",
              "         'just': 1540,\n",
              "         'shop': 471,\n",
              "         'time': 1136,\n",
              "         'restock': 42,\n",
              "         'if': 2142,\n",
              "         \"we're\": 168,\n",
              "         'sensible,': 2,\n",
              "         'life': 244,\n",
              "         'slightly': 9,\n",
              "         'easier...take': 1,\n",
              "         'care': 401,\n",
              "         '#coronacrisis': 423,\n",
              "         'at': 4642,\n",
              "         'least': 222,\n",
              "         'essential': 496,\n",
              "         'allowed,': 2,\n",
              "         'can': 2202,\n",
              "         'go': 1245,\n",
              "         'store': 3155,\n",
              "         'bank.': 8,\n",
              "         'itâ\\x92s': 459,\n",
              "         'ridiculous': 56,\n",
              "         'that': 3741,\n",
              "         'actually': 149,\n",
              "         'act': 102,\n",
              "         'going': 1141,\n",
              "         'those': 789,\n",
              "         'types': 25,\n",
              "         'places': 82,\n",
              "         'â\\x93necessaryâ\\x94': 1,\n",
              "         'stopped': 51,\n",
              "         'police.': 3,\n",
              "         '?': 1320,\n",
              "         '#covid19': 2471,\n",
              "         '#quarantinelife': 112,\n",
              "         'queues': 54,\n",
              "         'outside': 151,\n",
              "         'supermarket': 3288,\n",
              "         'reserved': 10,\n",
              "         'for': 8566,\n",
              "         'elderly.': 8,\n",
              "         'britain,': 5,\n",
              "         'were': 566,\n",
              "         'better': 267,\n",
              "         'than': 891,\n",
              "         'this.': 92,\n",
              "         'https://t.co/0fmsmlgepm': 1,\n",
              "         'lt.': 3,\n",
              "         'gov.': 18,\n",
              "         'husted:': 1,\n",
              "         '\"come': 4,\n",
              "         'people.': 113,\n",
              "         'that.\"': 4,\n",
              "         'hearing': 43,\n",
              "         'fight': 330,\n",
              "         'over': 786,\n",
              "         'paper': 587,\n",
              "         'from': 3045,\n",
              "         'one': 1074,\n",
              "         'american': 93,\n",
              "         'irishman': 1,\n",
              "         'others': 300,\n",
              "         'out': 2026,\n",
              "         'there,': 13,\n",
              "         '#happystpatricksday!': 1,\n",
              "         'bought': 163,\n",
              "         'some': 1320,\n",
              "         'guiness': 1,\n",
              "         'corned': 2,\n",
              "         'beef': 32,\n",
              "         'cabbage': 2,\n",
              "         'other': 890,\n",
              "         'day': 521,\n",
              "         'since': 369,\n",
              "         'sadly': 19,\n",
              "         'cannot': 147,\n",
              "         'irish': 5,\n",
              "         'pub': 22,\n",
              "         'per': 246,\n",
              "         'tradition,': 2,\n",
              "         'thanks': 275,\n",
              "         'governor': 48,\n",
              "         'pritzker': 2,\n",
              "         'damn': 70,\n",
              "         '@ufcw': 7,\n",
              "         'says': 369,\n",
              "         '30': 79,\n",
              "         'died': 117,\n",
              "         '#coronavirus.': 228,\n",
              "         'union': 38,\n",
              "         'reps': 6,\n",
              "         'consumers': 307,\n",
              "         'help': 1282,\n",
              "         'protect': 340,\n",
              "         'workers/the': 1,\n",
              "         'public.': 20,\n",
              "         '-': 1429,\n",
              "         'wear': 182,\n",
              "         'mask': 330,\n",
              "         'when': 1343,\n",
              "         'shopping': 1621,\n",
              "         'touch': 75,\n",
              "         'few': 317,\n",
              "         'products': 427,\n",
              "         'possible': 143,\n",
              "         'throw': 27,\n",
              "         'used': 178,\n",
              "         'mask/gloves': 2,\n",
              "         'â\\x93major': 2,\n",
              "         'chains': 147,\n",
              "         'beginning': 83,\n",
              "         'report': 268,\n",
              "         'their': 1972,\n",
              "         'first': 475,\n",
              "         'coronavirus-related': 14,\n",
              "         'employee': 114,\n",
              "         'deaths,': 7,\n",
              "         'leading': 61,\n",
              "         'closures': 77,\n",
              "         'increasing': 121,\n",
              "         'anxiety': 90,\n",
              "         'among': 90,\n",
              "         'pandemic': 1026,\n",
              "         'intensifies': 8,\n",
              "         'across': 318,\n",
              "         'countryâ\\x94': 1,\n",
              "         'https://t.co/18v0pyhwb7': 1,\n",
              "         'my': 2445,\n",
              "         'story': 122,\n",
              "         'another': 246,\n",
              "         'aspect': 3,\n",
              "         'covid-19:': 134,\n",
              "         'banks': 244,\n",
              "         'face': 402,\n",
              "         'virus': 480,\n",
              "         'dilemma:': 3,\n",
              "         'demand,': 67,\n",
              "         'fewer': 28,\n",
              "         'volunteers': 68,\n",
              "         'https://t.co/ls0g86i8pu': 1,\n",
              "         'https://t.co/ofvkejff23': 1,\n",
              "         'walking': 68,\n",
              "         'around': 391,\n",
              "         'store,': 196,\n",
              "         'wearing': 190,\n",
              "         'was': 1384,\n",
              "         'weird.': 5,\n",
              "         'seeing': 214,\n",
              "         'mask,': 41,\n",
              "         'normal.': 28,\n",
              "         'sanitizing': 36,\n",
              "         'everything': 280,\n",
              "         'before': 433,\n",
              "         'putting': 166,\n",
              "         'it': 3150,\n",
              "         'away.': 26,\n",
              "         'weird': 37,\n",
              "         'time.': 158,\n",
              "         '#azliving': 2,\n",
              "         'https://t.co/xoodgd2ulx': 1,\n",
              "         'point': 117,\n",
              "         're': 328,\n",
              "         'stock': 1063,\n",
              "         'piling': 36,\n",
              "         'live': 236,\n",
              "         'lifestyles': 1,\n",
              "         'eat': 125,\n",
              "         'lot': 262,\n",
              "         'don': 251,\n",
              "         't': 648,\n",
              "         'carry': 56,\n",
              "         'but': 2159,\n",
              "         '70': 28,\n",
              "         'mother': 45,\n",
              "         'inherited': 1,\n",
              "         'wartime': 3,\n",
              "         'mentality': 2,\n",
              "         'doesn': 37,\n",
              "         'everyone': 600,\n",
              "         '14': 49,\n",
              "         'days': 325,\n",
              "         'worth': 105,\n",
              "         'larder': 1,\n",
              "         '1': 340,\n",
              "         '2': 582,\n",
              "         'bay': 24,\n",
              "         'view': 42,\n",
              "         'distillery': 29,\n",
              "         'bottling': 1,\n",
              "         'hand': 1382,\n",
              "         'sanitizer': 1064,\n",
              "         'area': 125,\n",
              "         'nonprofits': 7,\n",
              "         'https://t.co/ogxu5ojpxh': 1,\n",
              "         'https://t.co/8cs3skukmn': 1,\n",
              "         '#inspiration&gt;&gt;': 1,\n",
              "         '#regram': 1,\n",
              "         '#showcasing&gt;&gt;': 1,\n",
              "         '#artwork': 1,\n",
              "         '@karencantuq:': 1,\n",
              "         'title:': 2,\n",
              "         '\"ready': 1,\n",
              "         'wipe': 59,\n",
              "         'coronavirus\"': 3,\n",
              "         'caption:': 2,\n",
              "         '\"ps': 1,\n",
              "         'donâ\\x92t': 414,\n",
              "         'people\"': 2,\n",
              "         '#stayinsideyourhouse': 1,\n",
              "         'follow&gt;&gt;': 1,\n",
              "         '@authorship.me': 1,\n",
              "         'instagram:': 4,\n",
              "         'authorzine&gt;&gt;': 1,\n",
              "         'https://t.co/qo7tzfr0ih': 1,\n",
              "         'https://t.co/yu6kokta74': 1,\n",
              "         'spent': 43,\n",
              "         'trying': 307,\n",
              "         'book': 56,\n",
              "         'delivery': 686,\n",
              "         'any': 624,\n",
              "         'supermarket.': 204,\n",
              "         'there': 1219,\n",
              "         'no': 1898,\n",
              "         'availability': 30,\n",
              "         '.': 454,\n",
              "         'self': 210,\n",
              "         'isolate': 52,\n",
              "         '12': 78,\n",
              "         'weeks': 312,\n",
              "         'due': 1059,\n",
              "         'being': 827,\n",
              "         'immune': 59,\n",
              "         'supressed.': 1,\n",
              "         'how': 1850,\n",
              "         'supposed': 56,\n",
              "         'food?': 24,\n",
              "         'wonder': 67,\n",
              "         'stockpiled.': 4,\n",
              "         'help!': 15,\n",
              "         '#coronacrisisuk': 49,\n",
              "         '#stockpilinguk': 18,\n",
              "         '#food': 158,\n",
              "         'complete': 61,\n",
              "         'madness': 22,\n",
              "         '@borisjohnson': 78,\n",
              "         '@susannareid100': 6,\n",
              "         '@hollywills': 2,\n",
              "         '@piersmorgan': 51,\n",
              "         '@eamonnholmes': 1,\n",
              "         '@ruthieel': 1,\n",
              "         '@gmb': 15,\n",
              "         '@bbcnews': 17,\n",
              "         '@dailymailuk': 7,\n",
              "         '#londonlockdown': 10,\n",
              "         '#uklockdown': 22,\n",
              "         '#covid-19': 191,\n",
              "         'https://t.co/dexxnx7ox3': 1,\n",
              "         '\"forcing': 1,\n",
              "         '50': 83,\n",
              "         'governors': 14,\n",
              "         'compete': 12,\n",
              "         'lifesaving': 5,\n",
              "         'equipment': 86,\n",
              "         'â\\x97': 141,\n",
              "         'hospitals': 81,\n",
              "         'pay': 329,\n",
              "         'exorbitant': 34,\n",
              "         'prices': 3891,\n",
              "         'only': 851,\n",
              "         'makes': 114,\n",
              "         'matters': 10,\n",
              "         'worse.\"': 1,\n",
              "         'bill': 67,\n",
              "         'gates:': 2,\n",
              "         'hereâ\\x92s': 59,\n",
              "         'make': 811,\n",
              "         'up': 1987,\n",
              "         'lost': 143,\n",
              "         'https://t.co/yh3rytrevk': 1,\n",
              "         '#mondaymotivation': 16,\n",
              "         'iâ\\x92m': 414,\n",
              "         'privileged': 7,\n",
              "         'enough': 337,\n",
              "         'drive': 149,\n",
              "         'places.': 9,\n",
              "         'canâ\\x92t': 243,\n",
              "         'stop': 730,\n",
              "         'thinking': 98,\n",
              "         'about': 1726,\n",
              "         'easy': 74,\n",
              "         'access': 195,\n",
              "         'transport': 61,\n",
              "         'or': 2234,\n",
              "         'who': 1670,\n",
              "         'less': 212,\n",
              "         'able': 249,\n",
              "         'travel': 135,\n",
              "         'multiple': 43,\n",
              "         'shops.': 28,\n",
              "         'start': 201,\n",
              "         '#stoppanicbuying': 130,\n",
              "         '2/2': 8,\n",
              "         'especially': 161,\n",
              "         'whilst': 54,\n",
              "         'tesco': 51,\n",
              "         'own': 234,\n",
              "         'stores': 648,\n",
              "         'such': 269,\n",
              "         'leyton': 1,\n",
              "         'leytonstone': 2,\n",
              "         'frontline,': 4,\n",
              "         'dealing': 66,\n",
              "         'covid-19,': 311,\n",
              "         'restricted': 21,\n",
              "         'getting': 415,\n",
              "         'vulnerable': 275,\n",
              "         'difficult': 140,\n",
              "         'circumstances.': 8,\n",
              "         'every': 509,\n",
              "         'little': 208,\n",
              "         'helps!': 3,\n",
              "         'indeed!': 5,\n",
              "         'longer': 104,\n",
              "         'having': 257,\n",
              "         'cocktail': 3,\n",
              "         'parties,': 2,\n",
              "         'us': 1247,\n",
              "         'prefer': 15,\n",
              "         'stay': 895,\n",
              "         'sober': 2,\n",
              "         'find': 431,\n",
              "         'club': 24,\n",
              "         'soda': 4,\n",
              "         'local': 821,\n",
              "         'fourth': 6,\n",
              "         'emergency': 267,\n",
              "         'scammers': 113,\n",
              "         'using': 272,\n",
              "         'messages': 27,\n",
              "         'scam': 71,\n",
              "         'https://t.co/nzsthpcxre': 1,\n",
              "         'heaven': 3,\n",
              "         'hades': 1,\n",
              "         'judgement': 3,\n",
              "         'eternal': 2,\n",
              "         'hey': 89,\n",
              "         'wednesday': 42,\n",
              "         '3': 364,\n",
              "         'helping': 213,\n",
              "         'free': 467,\n",
              "         'add': 66,\n",
              "         'link': 90,\n",
              "         'tell': 139,\n",
              "         'me': 920,\n",
              "         'which': 504,\n",
              "         'poll': 8,\n",
              "         'll': 75,\n",
              "         'feature': 9,\n",
              "         'blog': 63,\n",
              "         '226k': 1,\n",
              "         'views': 11,\n",
              "         'tweet': 29,\n",
              "         '54k': 1,\n",
              "         'followers': 12,\n",
              "         'mom': 48,\n",
              "         'found': 169,\n",
              "         '#vintagetoiletpaper': 1,\n",
              "         'her': 377,\n",
              "         'basement.': 1,\n",
              "         'circa': 2,\n",
              "         '1987.': 1,\n",
              "         'blue': 19,\n",
              "         'peach.': 1,\n",
              "         'told': 216,\n",
              "         'list': 173,\n",
              "         '@ebay': 21,\n",
              "         'easy?': 1,\n",
              "         '???': 182,\n",
              "         'https://t.co/2tvpmsaxox': 1,\n",
              "         '@realdonaldtrump': 151,\n",
              "         'hear': 106,\n",
              "         'out,': 49,\n",
              "         'instead': 147,\n",
              "         'bailing': 6,\n",
              "         'corporations': 22,\n",
              "         'bailed': 2,\n",
              "         'everyoneâ\\x92s': 14,\n",
              "         'under': 239,\n",
              "         '200k?': 1,\n",
              "         'bet': 31,\n",
              "         'would': 730,\n",
              "         'billions': 15,\n",
              "         'aaannnddd': 1,\n",
              "         'rebuy': 1,\n",
              "         'more!': 17,\n",
              "         'plus!': 1,\n",
              "         'our': 2460,\n",
              "         'tax': 64,\n",
              "         'mon': 3,\n",
              "         'yourself': 147,\n",
              "         'washing': 93,\n",
              "         'your': 2784,\n",
              "         'hands': 303,\n",
              "         'often': 60,\n",
              "         'soap': 161,\n",
              "         'water': 194,\n",
              "         'use': 572,\n",
              "         '#wolverhampton': 1,\n",
              "         'https://t.co/e7ifbsqaxx': 1,\n",
              "         'two': 331,\n",
              "         'stories': 39,\n",
              "         'should': 875,\n",
              "         'mutually': 1,\n",
              "         'exclusive.': 1,\n",
              "         \"couldn't\": 36,\n",
              "         'alleviate': 10,\n",
              "         'vice': 5,\n",
              "         'versa?': 1,\n",
              "         'https://t.co/01oc3pig5b': 1,\n",
              "         'https://t.co/omjr2atzhp': 1,\n",
              "         \"here's\": 99,\n",
              "         'idea,': 5,\n",
              "         'become': 138,\n",
              "         'historian.': 1,\n",
              "         'write': 20,\n",
              "         'daily': 192,\n",
              "         'weekly': 60,\n",
              "         'diary': 7,\n",
              "         'grand': 12,\n",
              "         'children': 71,\n",
              "         'experiences.': 3,\n",
              "         'sacrifices,': 2,\n",
              "         'anecdotes,': 1,\n",
              "         'funny': 36,\n",
              "         'sad': 53,\n",
              "         'stories,': 1,\n",
              "         'recipes,': 3,\n",
              "         'photos': 38,\n",
              "         'newspaper': 3,\n",
              "         'clippings.': 1,\n",
              "         'imagine': 77,\n",
              "         'musings': 1,\n",
              "         '1.': 77,\n",
              "         'need': 1549,\n",
              "         'media': 155,\n",
              "         '#coronavirus...': 5,\n",
              "         'not': 2714,\n",
              "         'because': 902,\n",
              "         'news': 304,\n",
              "         'pictures': 26,\n",
              "         'take': 701,\n",
              "         'advantage': 174,\n",
              "         'of.': 11,\n",
              "         '#instafood': 1,\n",
              "         'making': 404,\n",
              "         'restaurant': 88,\n",
              "         'animal': 43,\n",
              "         'shelters': 9,\n",
              "         'left': 211,\n",
              "         'starving': 10,\n",
              "         'buying': 911,\n",
              "         'consider': 122,\n",
              "         'donating': 84,\n",
              "         'through': 427,\n",
              "         'facebook': 45,\n",
              "         '@theprojecttv': 1,\n",
              "         '@mrbenjaminlaw': 1,\n",
              "         'okay': 28,\n",
              "         'empty': 407,\n",
              "         'shelves': 709,\n",
              "         'goods': 243,\n",
              "         '&amp;': 2314,\n",
              "         'send': 112,\n",
              "         'them': 799,\n",
              "         'china!': 2,\n",
              "         'deprive': 3,\n",
              "         'medical': 303,\n",
              "         'supplies': 387,\n",
              "         'faulty': 3,\n",
              "         'covid': 1769,\n",
              "         'americans': 159,\n",
              "         'alarmed': 3,\n",
              "         'shelves,': 55,\n",
              "         'while': 638,\n",
              "         'suppliers': 55,\n",
              "         'retailers': 207,\n",
              "         'say': 350,\n",
              "         'they': 2309,\n",
              "         'struggling': 146,\n",
              "         'surging': 38,\n",
              "         'insist': 7,\n",
              "         'supply': 662,\n",
              "         'chain': 277,\n",
              "         'remains': 39,\n",
              "         '@nytimes': 26,\n",
              "         '#supplychain': 50,\n",
              "         'https://t.co/qro7avqbz5': 1,\n",
              "         'this': 4581,\n",
              "         'video': 152,\n",
              "         'seen': 258,\n",
              "         'many': 819,\n",
              "         'possible.': 26,\n",
              "         'nhs': 164,\n",
              "         'staff': 521,\n",
              "         'brave': 25,\n",
              "         'woman': 126,\n",
              "         'need,': 21,\n",
              "         'something': 203,\n",
              "         'needs': 276,\n",
              "         'done': 187,\n",
              "         'urgently.': 5,\n",
              "         'https://t.co/kh3kdyqd8t': 1,\n",
              "         'diageo': 1,\n",
              "         'hasnâ\\x92t': 13,\n",
              "         'clue.': 1,\n",
              "         'clear': 97,\n",
              "         'demonstraion': 1,\n",
              "         'remote': 31,\n",
              "         'consumer.#covid-19': 1,\n",
              "         'https://t.co/tfrsci5ysp': 1,\n",
              "         'picked': 18,\n",
              "         'hell': 54,\n",
              "         'back': 430,\n",
              "         'working': 594,\n",
              "         'rational,': 1,\n",
              "         'educated,': 2,\n",
              "         'respected': 13,\n",
              "         'members': 106,\n",
              "         'community': 243,\n",
              "         'non-perishable': 11,\n",
              "         'items': 439,\n",
              "         'bulk': 71,\n",
              "         'terrified': 12,\n",
              "         'facial': 5,\n",
              "         'expressions,': 1,\n",
              "         'eerie': 4,\n",
              "         'sense': 70,\n",
              "         'doomsday': 6,\n",
              "         'scenario': 11,\n",
              "         \"isn't\": 88,\n",
              "         'far': 148,\n",
              "         'off.': 23,\n",
              "         'new': 885,\n",
              "         'study': 38,\n",
              "         'finds': 27,\n",
              "         'may': 525,\n",
              "         'surfaces': 37,\n",
              "         'previously': 23,\n",
              "         'thought.': 12,\n",
              "         'down': 609,\n",
              "         'cleanser,': 1,\n",
              "         'wash': 212,\n",
              "         'frequently': 19,\n",
              "         'sanitizer.': 101,\n",
              "         'safe!': 23,\n",
              "         '#coronavirusupdate': 151,\n",
              "         '#flatteningthecurve': 2,\n",
              "         'https://t.co/ghbayd7t0g': 1,\n",
              "         'claim': 43,\n",
              "         'support': 477,\n",
              "         'doctors,': 59,\n",
              "         'nurses,': 72,\n",
              "         'responders': 66,\n",
              "         'guard,': 1,\n",
              "         'staff,': 101,\n",
              "         'truck': 105,\n",
              "         'drivers,': 86,\n",
              "         'else': 189,\n",
              "         'continue': 261,\n",
              "         'ignore': 23,\n",
              "         'pleas': 4,\n",
              "         'home!': 21,\n",
              "         '#stayhome': 229,\n",
              "         '#flattenthecurve': 47,\n",
              "         'shops': 279,\n",
              "         'markets': 211,\n",
              "         'malls': 22,\n",
              "         'restaurants': 131,\n",
              "         'remain': 150,\n",
              "         'closed': 202,\n",
              "         'different': 123,\n",
              "         'cities': 34,\n",
              "         'pakistan': 20,\n",
              "         'country': 321,\n",
              "         'imposed': 22,\n",
              "         'ban': 45,\n",
              "         'movement': 42,\n",
              "         'spread': 514,\n",
              "         'following': 149,\n",
              "         'show': 135,\n",
              "         'roads': 15,\n",
              "         'karachi': 1,\n",
              "         'islamabad': 1,\n",
              "         'bannu': 1,\n",
              "         'online': 1648,\n",
              "         '19': 2111,\n",
              "         'lockdown': 326,\n",
              "         'paddy': 1,\n",
              "         'drop': 235,\n",
              "         'closure': 30,\n",
              "         'inter': 3,\n",
              "         'state': 250,\n",
              "         'borders': 16,\n",
              "         'andhra': 1,\n",
              "         'pradesh': 2,\n",
              "         '#trumppressconference': 6,\n",
              "         'never': 303,\n",
              "         'maga': 2,\n",
              "         'rally': 14,\n",
              "         'amp': 859,\n",
              "         'stand': 74,\n",
              "         'talking': 69,\n",
              "         'russia': 92,\n",
              "         'mbs': 9,\n",
              "         'oil': 900,\n",
              "         'gas': 361,\n",
              "         'cuts': 65,\n",
              "         'wtf': 31,\n",
              "         'notice': 48,\n",
              "         'press': 42,\n",
              "         'release': 23,\n",
              "         'induced': 13,\n",
              "         '2020': 211,\n",
              "         'recession': 77,\n",
              "         'disrupt': 9,\n",
              "         'automotive': 6,\n",
              "         'electronics': 14,\n",
              "         'semiconductor': 2,\n",
              "         'infrastructure': 19,\n",
              "         'businesses': 342,\n",
              "         'lockdown:': 9,\n",
              "         'know': 641,\n",
              "         'options==&gt;': 1,\n",
              "         'https://t.co/qky8zps5oz': 1,\n",
              "         '#21dayslockdown': 12,\n",
              "         '#21daylockdown': 14,\n",
              "         '#21dayslockdownindia': 1,\n",
              "         '#coronavirusindia': 30,\n",
              "         '#coronaviruslockdown': 71,\n",
              "         'idiots': 46,\n",
              "         'president': 104,\n",
              "         'also': 635,\n",
              "         'needed': 148,\n",
              "         'direct': 75,\n",
              "         'business': 445,\n",
              "         'situation,': 20,\n",
              "         'hike': 58,\n",
              "         'required': 50,\n",
              "         'safeguarding': 3,\n",
              "         'transmission': 28,\n",
              "         'packet': 8,\n",
              "         'facemasks': 7,\n",
              "         '@': 111,\n",
              "         '150k,': 1,\n",
              "         'chloroquine': 19,\n",
              "         '100k': 5,\n",
              "         'right,': 9,\n",
              "         'see': 756,\n",
              "         'greedy': 60,\n",
              "         '*duckers*': 1,\n",
              "         'stockpiled': 10,\n",
              "         'all!': 12,\n",
              "         '#convid19uk': 23,\n",
              "         '#stopstockpiling': 44,\n",
              "         'call': 276,\n",
              "         'bollocks': 6,\n",
              "         'one.': 30,\n",
              "         'fair': 53,\n",
              "         'amount': 98,\n",
              "         'ppl': 120,\n",
              "         'buyin': 1,\n",
              "         'immediately': 51,\n",
              "         'years': 146,\n",
              "         'brexit': 18,\n",
              "         'n': 90,\n",
              "         'general': 94,\n",
              "         'skintness.': 1,\n",
              "         'its': 674,\n",
              "         'fucking': 128,\n",
              "         'buyers.': 7,\n",
              "         \"'accidental\": 3,\n",
              "         \"hoarders'\": 2,\n",
              "         'causing': 76,\n",
              "         'shortages': 146,\n",
              "         'https://t.co/q2nslsf6ke': 1,\n",
              "         'sent': 68,\n",
              "         '@updayuk': 5,\n",
              "         \"today's\": 33,\n",
              "         'news:': 26,\n",
              "         'pressured': 3,\n",
              "         'close': 250,\n",
              "         'affects': 19,\n",
              "         'beauty': 22,\n",
              "         'industry': 234,\n",
              "         'retail': 610,\n",
              "         'age': 60,\n",
              "         'coronavirus': 970,\n",
              "         'j.c.': 1,\n",
              "         'penney': 1,\n",
              "         'brings': 23,\n",
              "         'interactive': 6,\n",
              "         'style': 15,\n",
              "         'fitting': 7,\n",
              "         'rooms': 10,\n",
              "         '#coronapocalypse': 23,\n",
              "         '#ecommerce': 79,\n",
              "         '#retail': 180,\n",
              "         '#dtc': 3,\n",
              "         'https://t.co/rafj2l2ceq': 2,\n",
              "         'https://t.co/tgoar4fhl1': 1,\n",
              "         'love': 146,\n",
              "         'this!': 23,\n",
              "         'victoria': 5,\n",
              "         'helps': 50,\n",
              "         'production': 217,\n",
              "         '1st': 64,\n",
              "         'wwii,': 7,\n",
              "         'demand': 1345,\n",
              "         '|': 279,\n",
              "         'cbc': 17,\n",
              "         'https://t.co/75vb12pbap': 1,\n",
              "         '@cityoftoronto': 1,\n",
              "         '@johntory': 2,\n",
              "         'bank': 211,\n",
              "         'grateful': 64,\n",
              "         'donations': 84,\n",
              "         'sees': 44,\n",
              "         'spike': 46,\n",
              "         '#covid2019': 915,\n",
              "         \"doesn't\": 94,\n",
              "         'discriminate.': 1,\n",
              "         'society': 78,\n",
              "         'healthcare': 214,\n",
              "         'system': 132,\n",
              "         'does.': 2,\n",
              "         'minimum': 65,\n",
              "         'wage': 52,\n",
              "         'grocery-store/warehouse': 1,\n",
              "         'workers,': 280,\n",
              "         'migrant': 9,\n",
              "         'transported': 1,\n",
              "         'fields': 16,\n",
              "         'crowded': 51,\n",
              "         'trucks,': 2,\n",
              "         'living': 100,\n",
              "         'public': 386,\n",
              "         'housing': 65,\n",
              "         'w/mold': 1,\n",
              "         'causes': 48,\n",
              "         'asthma': 18,\n",
              "         'disproportionately': 6,\n",
              "         'risk': 397,\n",
              "         'waiting': 115,\n",
              "         'line': 291,\n",
              "         'order': 337,\n",
              "         'practice': 80,\n",
              "         'safe': 487,\n",
              "         '#socialdistancing': 427,\n",
              "         ',': 187,\n",
              "         'sure': 288,\n",
              "         'youre': 4,\n",
              "         'fit': 17,\n",
              "         'corpse': 3,\n",
              "         'between': 152,\n",
              "         'person': 207,\n",
              "         'front': 231,\n",
              "         'you.': 117,\n",
              "         'added': 39,\n",
              "         'accuracy,': 1,\n",
              "         'bring': 137,\n",
              "         'body': 26,\n",
              "         'went': 378,\n",
              "         'usual': 62,\n",
              "         'had': 660,\n",
              "         'door': 57,\n",
              "         '(100': 1,\n",
              "         'store)': 14,\n",
              "         'right': 455,\n",
              "         'needed.': 21,\n",
              "         'prevent': 152,\n",
              "         'it,': 87,\n",
              "         'venezuelan.': 1,\n",
              "         'article:': 10,\n",
              "         'health': 540,\n",
              "         'share': 254,\n",
              "         'begin': 31,\n",
              "         'recovery': 51,\n",
              "         'https://t.co/auxib44pom': 1,\n",
              "         'yesterday': 113,\n",
              "         'took': 95,\n",
              "         'n95': 47,\n",
              "         'masks,': 87,\n",
              "         'gloves': 216,\n",
              "         'revera': 1,\n",
              "         'mckenzie': 1,\n",
              "         'towne': 2,\n",
              "         'retirement': 8,\n",
              "         'brenda': 1,\n",
              "         'strafford': 1,\n",
              "         'foundation.': 2,\n",
              "         '#2019ncov': 4,\n",
              "         '#sarscov2': 22,\n",
              "         '#albertafireflood': 1,\n",
              "         '#restoration': 1,\n",
              "         '#cleaning': 6,\n",
              "         '#sanatizing': 1,\n",
              "         '#heretohelp': 2,\n",
              "         '#supportlocal': 10,\n",
              "         '#calgary': 4,\n",
              "         '#yyc': 7,\n",
              "         '#supportlocalbusiness': 5,\n",
              "         'loads': 28,\n",
              "         'emails': 37,\n",
              "         'companies': 393,\n",
              "         'last': 462,\n",
              "         'saying': 153,\n",
              "         'customers': 451,\n",
              "         '#sky': 2,\n",
              "         'true': 72,\n",
              "         'colours': 4,\n",
              "         'increase': 348,\n",
              "         '#noshame': 1,\n",
              "         '#nosense': 1,\n",
              "         '#cancelsky': 1,\n",
              "         'https://t.co/8mrz0kdmez': 1,\n",
              "         'marketers': 16,\n",
              "         'friends,': 10,\n",
              "         'good': 586,\n",
              "         'article': 112,\n",
              "         '@mckinsey': 22,\n",
              "         'regarding': 90,\n",
              "         'customer': 129,\n",
              "         'sentiment': 69,\n",
              "         'ready': 107,\n",
              "         'change': 174,\n",
              "         ...})"
            ]
          },
          "metadata": {},
          "execution_count": 363
        }
      ],
      "execution_count": 363
    },
    {
      "cell_type": "markdown",
      "metadata": {
        "id": "Pe0h2Jqkpnao"
      },
      "source": [
        "Какой размер словаря получился?"
      ]
    },
    {
      "cell_type": "code",
      "metadata": {
        "id": "umyENA7EpokD",
        "ExecuteTime": {
          "end_time": "2025-05-06T16:29:56.652693Z",
          "start_time": "2025-05-06T16:29:56.642670Z"
        },
        "colab": {
          "base_uri": "https://localhost:8080/"
        },
        "outputId": "4c1ab4f1-43fd-44de-a6cb-d35019aa5137"
      },
      "source": [
        "print(f'Размер словаря: {len(tokens)}')"
      ],
      "outputs": [
        {
          "output_type": "stream",
          "name": "stdout",
          "text": [
            "Размер словаря: 754630\n"
          ]
        }
      ],
      "execution_count": 364
    },
    {
      "cell_type": "markdown",
      "metadata": {
        "id": "0d2G1Z-Qpqkd"
      },
      "source": [
        "Выведите 10 самых популярных токенов с количеством встреч каждого из них. Объясните, почему именно эти токены в топе."
      ]
    },
    {
      "cell_type": "code",
      "metadata": {
        "id": "Impi32a_pssg",
        "ExecuteTime": {
          "end_time": "2025-05-06T16:30:57.815767Z",
          "start_time": "2025-05-06T16:30:57.788443Z"
        },
        "colab": {
          "base_uri": "https://localhost:8080/"
        },
        "outputId": "db7b119a-9e25-46fa-ee24-9b6479e08d3b"
      },
      "source": [
        "token_counts.most_common(10)"
      ],
      "outputs": [
        {
          "output_type": "execute_result",
          "data": {
            "text/plain": [
              "[('the', 26815),\n",
              " ('to', 23373),\n",
              " ('and', 14684),\n",
              " ('of', 13012),\n",
              " ('a', 11737),\n",
              " ('in', 11198),\n",
              " ('for', 8566),\n",
              " ('#coronavirus', 8223),\n",
              " ('is', 7383),\n",
              " ('are', 7050)]"
            ]
          },
          "metadata": {},
          "execution_count": 365
        }
      ],
      "execution_count": 365
    },
    {
      "cell_type": "markdown",
      "metadata": {
        "id": "ZtuJCD0ApuFd"
      },
      "source": [
        "**Ответ:** все эти токены являются просто предлогами, артиклями и тому подобное. Они присутствуют почти в каждом твите. Исключение это #coronavirus, но это и логично, что в твитах про коронавирус есть такой хэштег."
      ]
    },
    {
      "cell_type": "markdown",
      "metadata": {
        "id": "T7DTQDkWsVYp"
      },
      "source": [
        "Удалите стоп-слова из словаря и выведите новый топ-10 токенов (и количество встреч) по популярности.  Что можно сказать  о нем?"
      ]
    },
    {
      "cell_type": "code",
      "metadata": {
        "id": "8csSAdgTsnFx",
        "ExecuteTime": {
          "end_time": "2025-05-06T16:45:08.907519Z",
          "start_time": "2025-05-06T16:45:08.646925Z"
        },
        "colab": {
          "base_uri": "https://localhost:8080/"
        },
        "outputId": "18b2795c-15fb-4d4f-873c-a29dc47650eb"
      },
      "source": [
        "import nltk\n",
        "from nltk.corpus import stopwords\n",
        "nltk.download('stopwords', quiet=True)\n",
        "\n",
        "stop_words = set(stopwords.words('english'))\n",
        "\n",
        "filtered_tokens = [token for token in tokens if token not in stop_words]\n",
        "\n",
        "filtered_tokens_count = Counter(filtered_tokens)\n",
        "print('Топ 10 токенов после удаления stop_words:')\n",
        "print(filtered_tokens_count.most_common(10))"
      ],
      "outputs": [
        {
          "output_type": "stream",
          "name": "stdout",
          "text": [
            "Топ 10 токенов после удаления stop_words:\n",
            "[('#coronavirus', 8223), ('prices', 3891), ('food', 3820), ('grocery', 3469), ('supermarket', 3288), ('people', 3175), ('covid-19', 3173), ('store', 3155), ('#covid19', 2471), ('&amp;', 2314)]\n"
          ]
        }
      ],
      "execution_count": 366
    },
    {
      "cell_type": "markdown",
      "metadata": {
        "id": "LZH0x2Lzs-Dh"
      },
      "source": [
        "**Ответ:**  он изменился, все предлоги, артикли и т.п. пропали. Теперь можно увидить слова, которые доносят смысл того, о чем написано в твитах. Тут присутсвуют названия самого вируса + что-то связанное с ценами на продукты и магазинами."
      ]
    },
    {
      "cell_type": "markdown",
      "metadata": {
        "id": "TKSGRyI-uor0"
      },
      "source": [
        "Также выведите 20 самых непопулярных слов (если самых непопулярных слов больше, выведите любые 20 из них) Почему эти токены непопулярны, требуется ли как-то дополнительно работать с ними?"
      ]
    },
    {
      "cell_type": "code",
      "execution_count": 367,
      "metadata": {
        "id": "moArbwfvun9t",
        "colab": {
          "base_uri": "https://localhost:8080/"
        },
        "outputId": "23246e9a-0efc-43b4-9a97-935b4cfda464"
      },
      "outputs": [
        {
          "output_type": "execute_result",
          "data": {
            "text/plain": [
              "[('https://t.co/7j2y3rsld9', 1),\n",
              " ('@680news', 1),\n",
              " ('@torontopearson', 1),\n",
              " ('nothing...', 1),\n",
              " ('flew', 1),\n",
              " ('wage!', 1),\n",
              " ('renewing', 1),\n",
              " ('playersâ\\x92', 1),\n",
              " ('subsidise', 1),\n",
              " ('non-playing', 1),\n",
              " ('premiership', 1),\n",
              " ('https://t.co/iaek4fwsgz', 1),\n",
              " ('@srinivasiyc', 1),\n",
              " ('https://t.co/zjcl195vqs', 1),\n",
              " ('#southkerry', 1),\n",
              " ('#skelligcoast2kms', 1),\n",
              " ('@skelligsix18', 1),\n",
              " ('closer!)', 1),\n",
              " ('coast!', 1),\n",
              " ('skellig', 1)]"
            ]
          },
          "metadata": {},
          "execution_count": 367
        }
      ],
      "source": [
        "filtered_tokens_count.most_common()[:-21:-1]"
      ]
    },
    {
      "cell_type": "markdown",
      "metadata": {
        "id": "uRp3J1gQunlR"
      },
      "source": [
        "**Ответ:** тут есть ссылки, понятно, что они редко встречаются + еще везде разные, поэтому лучше это убрать из текста, они не несут смысла. Также есть слова со знаками препинания, они не популярны в силу того, что какое-то слово хоть и могло встречатся много раз в тексте, но тут получилось так, что оно было написано со знаком препинания один раз. Это тоже надо поправить.\n",
        "\n"
      ]
    },
    {
      "cell_type": "markdown",
      "metadata": {
        "id": "wx9LQOSPzvjV"
      },
      "source": [
        "\n",
        "Теперь воспользуемся токенайзером получше - TweetTokenizer из библиотеки nltk. Примените его и посмотрите на топ-10 популярных слов. Чем он отличается от топа, который получался раньше? Почему?"
      ]
    },
    {
      "cell_type": "code",
      "execution_count": 368,
      "metadata": {
        "id": "2G1UkyVxzvFY",
        "colab": {
          "base_uri": "https://localhost:8080/"
        },
        "outputId": "e823b2c4-50af-4b09-c71f-89b3cca4820d"
      },
      "outputs": [
        {
          "output_type": "execute_result",
          "data": {
            "text/plain": [
              "[('the', 24337),\n",
              " ('.', 24118),\n",
              " ('to', 22933),\n",
              " (',', 17571),\n",
              " ('and', 14354),\n",
              " ('of', 12904),\n",
              " ('a', 11045),\n",
              " ('in', 10573),\n",
              " ('?', 9524),\n",
              " ('for', 8228)]"
            ]
          },
          "metadata": {},
          "execution_count": 368
        }
      ],
      "source": [
        "from nltk.tokenize import TweetTokenizer\n",
        "\n",
        "tweet_tokens = []\n",
        "tw = TweetTokenizer()\n",
        "\n",
        "for text in train['OriginalTweet']:\n",
        "  tweet_tokens.extend(tw.tokenize(text))\n",
        "\n",
        "tweet_tokens_count = Counter(tweet_tokens)\n",
        "tweet_tokens_count.most_common(10)"
      ]
    },
    {
      "cell_type": "markdown",
      "metadata": {
        "id": "50eVUnJN1Zxl"
      },
      "source": [
        "**Ответ:** tweet tokenizer не убирает знаки препинания и стоп-слова, поэтому тут в топе и находятся артикли, предлоги, знаки препинания. Но это отличается от того, где мы просто делали split, так как там знаки препинания не отделяются от слов, поэтому там топ был другой (знаки препинания просто были приклеены к словам, ну а тут уже много разных комбинаций и они различны)."
      ]
    },
    {
      "cell_type": "markdown",
      "metadata": {
        "id": "1gqQgiMs11bs"
      },
      "source": [
        "Удалите из словаря стоп-слова и пунктуацию, посмотрите на новый топ-10 слов с количеством встреч, есть ли теперь в нем что-то не похожее на слова?"
      ]
    },
    {
      "cell_type": "code",
      "execution_count": 369,
      "metadata": {
        "id": "0yHWdFrp0Mup",
        "colab": {
          "base_uri": "https://localhost:8080/"
        },
        "outputId": "44c7e38d-0355-4daa-dee3-7cd31465f1bd"
      },
      "outputs": [
        {
          "output_type": "execute_result",
          "data": {
            "text/plain": [
              "[('19', 7167),\n",
              " ('#coronavirus', 7143),\n",
              " ('I', 5235),\n",
              " ('\\x92', 4372),\n",
              " ('prices', 4281),\n",
              " ('COVID', 4218),\n",
              " ('food', 3795),\n",
              " ('store', 3691),\n",
              " ('supermarket', 3373),\n",
              " ('grocery', 3083)]"
            ]
          },
          "metadata": {},
          "execution_count": 369
        }
      ],
      "source": [
        "from string import punctuation\n",
        "\n",
        "stop_words = set(stopwords.words('english'))\n",
        "punctuation = set(punctuation)\n",
        "\n",
        "filtered_tweet_tokens = [t for t in tweet_tokens if t not in stop_words and t not in punctuation]\n",
        "\n",
        "filtered_tweet_tokens_count = Counter(filtered_tweet_tokens)\n",
        "filtered_tweet_tokens_count.most_common(10)"
      ]
    },
    {
      "cell_type": "markdown",
      "metadata": {
        "id": "8ZJqXELP_Yxy"
      },
      "source": [
        "**Ответ:** да, есть странные символы по типу \\x92, это тоже надо убирать."
      ]
    },
    {
      "cell_type": "markdown",
      "metadata": {
        "id": "rzXjMsSB_kXB"
      },
      "source": [
        "Скорее всего в некоторых топах были неотображаемые символы или отдельные буквы не латинского алфавита. Уберем их: удалите из словаря токены из одного символа, позиция которого в таблице Unicode 128 и более (`ord(x) >= 128`)\n",
        "\n",
        "Выведите топ-10 самых популярных и топ-20 непопулярных слов. Чем полученные топы отличаются от итоговых топов, полученных при использовании токенизации по пробелам? Что теперь лучше, а что хуже?"
      ]
    },
    {
      "cell_type": "code",
      "execution_count": 370,
      "metadata": {
        "id": "1695hlkS_1-J"
      },
      "outputs": [],
      "source": [
        "new_filtered_tweet_tokens = [t for t in filtered_tweet_tokens if not (len(t) == 1 and ord(t) >= 128)]"
      ]
    },
    {
      "cell_type": "code",
      "source": [
        "new_filtered_tweet_tokens_count = Counter(new_filtered_tweet_tokens)\n",
        "new_filtered_tweet_tokens_count.most_common(10)"
      ],
      "metadata": {
        "colab": {
          "base_uri": "https://localhost:8080/"
        },
        "id": "_B0LRy3h00Xv",
        "outputId": "d2cf25d9-762c-4f9f-b9c3-1067f04aa256"
      },
      "execution_count": 371,
      "outputs": [
        {
          "output_type": "execute_result",
          "data": {
            "text/plain": [
              "[('19', 7167),\n",
              " ('#coronavirus', 7143),\n",
              " ('I', 5235),\n",
              " ('prices', 4281),\n",
              " ('COVID', 4218),\n",
              " ('food', 3795),\n",
              " ('store', 3691),\n",
              " ('supermarket', 3373),\n",
              " ('grocery', 3083),\n",
              " ('people', 3047)]"
            ]
          },
          "metadata": {},
          "execution_count": 371
        }
      ]
    },
    {
      "cell_type": "code",
      "source": [
        "new_filtered_tweet_tokens_count.most_common()[:-21:-1]"
      ],
      "metadata": {
        "colab": {
          "base_uri": "https://localhost:8080/"
        },
        "id": "YD1Vt3Lz04gU",
        "outputId": "8b308dad-a279-41af-e8df-66cf5fc377e9"
      },
      "execution_count": 372,
      "outputs": [
        {
          "output_type": "execute_result",
          "data": {
            "text/plain": [
              "[('https://t.co/7j2Y3rSld9', 1),\n",
              " ('@680NEWS', 1),\n",
              " ('@TorontoPearson', 1),\n",
              " ('flew', 1),\n",
              " ('renewing', 1),\n",
              " ('playersÂ', 1),\n",
              " ('subsidise', 1),\n",
              " ('non-playing', 1),\n",
              " ('premiership', 1),\n",
              " ('Vile', 1),\n",
              " ('https://t.co/IAEK4fWsgz', 1),\n",
              " ('@srinivasiyc', 1),\n",
              " ('https://t.co/zJcL195VQS', 1),\n",
              " ('#SouthKerry', 1),\n",
              " ('#SkelligCoast2kms', 1),\n",
              " ('@SkelligSix18', 1),\n",
              " ('Skellig', 1),\n",
              " ('milion', 1),\n",
              " ('now.When', 1),\n",
              " ('ruins', 1)]"
            ]
          },
          "metadata": {},
          "execution_count": 372
        }
      ]
    },
    {
      "cell_type": "markdown",
      "metadata": {
        "id": "KzjHAKIlDvc6"
      },
      "source": [
        "**Ответ:** топ 10 стал содержать слова со смыслом, а вот из 20 самых непопулярных пропали всякие слова совместно со знаками препинания, но тут до сих пор есть ссылки и какие-то странные слова."
      ]
    },
    {
      "cell_type": "markdown",
      "metadata": {
        "id": "EcDf9_6HB2zm"
      },
      "source": [
        "Выведите топ-10 популярных хештегов (токены, первые символы которых - #) с количеством встреч. Что можно сказать о них?"
      ]
    },
    {
      "cell_type": "code",
      "execution_count": 373,
      "metadata": {
        "id": "zk4fygCUBw3l"
      },
      "outputs": [],
      "source": [
        "hashtags = [t for t in new_filtered_tweet_tokens if t.startswith('#')]"
      ]
    },
    {
      "cell_type": "code",
      "source": [
        "Counter(hashtags).most_common(10)"
      ],
      "metadata": {
        "colab": {
          "base_uri": "https://localhost:8080/"
        },
        "id": "46aOqgHS25KT",
        "outputId": "63739825-4a7a-4eb2-f41d-0db99d1f441f"
      },
      "execution_count": 374,
      "outputs": [
        {
          "output_type": "execute_result",
          "data": {
            "text/plain": [
              "[('#coronavirus', 7143),\n",
              " ('#COVID19', 1844),\n",
              " ('#Covid_19', 1463),\n",
              " ('#Coronavirus', 1281),\n",
              " ('#COVID2019', 927),\n",
              " ('#toiletpaper', 657),\n",
              " ('#covid19', 568),\n",
              " ('#COVID', 542),\n",
              " ('#CoronaCrisis', 426),\n",
              " ('#CoronaVirus', 351)]"
            ]
          },
          "metadata": {},
          "execution_count": 374
        }
      ]
    },
    {
      "cell_type": "markdown",
      "metadata": {
        "id": "-6NeNWBkDxM7"
      },
      "source": [
        "**Ответ:** все хештеги есть вариации слова коронавирус, кроме toiletpaper."
      ]
    },
    {
      "cell_type": "markdown",
      "metadata": {
        "id": "LLYBg7caD5GA"
      },
      "source": [
        "То же самое проделайте для ссылок на сайт https://t.co Сравнима ли популярность ссылок с популярностью хештегов? Будет ли информация о ссылке на конкретную страницу полезна?"
      ]
    },
    {
      "cell_type": "code",
      "execution_count": 375,
      "metadata": {
        "id": "MXbm1oeaCK9S",
        "colab": {
          "base_uri": "https://localhost:8080/"
        },
        "outputId": "7ff50c38-0b35-49d8-bfac-030f369d3541"
      },
      "outputs": [
        {
          "output_type": "execute_result",
          "data": {
            "text/plain": [
              "[('https://t.co/oXA7SWtoNd', 5),\n",
              " ('https://t.co/gP3EusapL8', 4),\n",
              " ('https://t.co/DefTruI1PfÂ', 3),\n",
              " ('https://t.co/WrLHYzIzAA', 3),\n",
              " ('https://t.co/kuwIpF1KQW', 3),\n",
              " ('https://t.co/zjNRx6dKKN', 3),\n",
              " ('https://t.co/3GBBDpdjat', 3),\n",
              " ('https://t.co/e2ZNXajPre', 3),\n",
              " ('https://t.co/CATKegAyOY', 3),\n",
              " ('https://t.co/G63RP042HO', 3)]"
            ]
          },
          "metadata": {},
          "execution_count": 375
        }
      ],
      "source": [
        "links = [t for t in new_filtered_tweet_tokens if t.startswith('https://t.co')]\n",
        "Counter(links).most_common(10)"
      ]
    },
    {
      "cell_type": "markdown",
      "metadata": {
        "id": "at6lRYZ8A07N"
      },
      "source": [
        "**Ответ:** ссылки редко использовались одинаковые, их популярность не сравнима с популярностью хештегов. Информация о ссылке на конкретную страницу навряд ли будет полезна для нашей задачи - оценки тональности текста."
      ]
    },
    {
      "cell_type": "markdown",
      "metadata": {
        "id": "IOGdUU1kBU1D"
      },
      "source": [
        "Используем опыт предыдущих экспериментов и напишем собственный токенайзер, улучшив TweetTokenizer. Функция tokenize должна:\n",
        "\n",
        "\n",
        "\n",
        "*   Привести текст в нижний регистр\n",
        "*   Применить TweetTokenizer для  выделения токенов\n",
        "*   Удалить стоп-слова, пунктуацию, токены из одного символа с позицией в таблице Unicode 128 и более,  ссылки на t.co\n",
        "\n"
      ]
    },
    {
      "cell_type": "code",
      "execution_count": 376,
      "metadata": {
        "id": "ctEsB6xkFrrK"
      },
      "outputs": [],
      "source": [
        "tw_tokenizer = TweetTokenizer()\n",
        "noise = set(stopwords.words('english')) | set(punctuation)\n",
        "\n",
        "def custom_tokenizer(text):\n",
        "  text = text.lower()\n",
        "  tmp_tokens = []\n",
        "  tmp_tokens.extend(tw_tokenizer.tokenize(text))\n",
        "  tokens = [t for t in tmp_tokens if t not in noise and not t.startswith('https://t.co') and not (len(t) == 1 and ord(t) >= 128)]\n",
        "  return tokens"
      ]
    },
    {
      "cell_type": "code",
      "execution_count": 377,
      "metadata": {
        "colab": {
          "base_uri": "https://localhost:8080/"
        },
        "id": "XwbgtYkJGYym",
        "outputId": "b5376733-0cfc-49d2-8fff-fd67d6b4a963"
      },
      "outputs": [
        {
          "output_type": "execute_result",
          "data": {
            "text/plain": [
              "['sample', 'text', '@sample_text', '#sampletext']"
            ]
          },
          "metadata": {},
          "execution_count": 377
        }
      ],
      "source": [
        "custom_tokenizer('This is sample text!!!! @Sample_text I, \\x92\\x92 https://t.co/sample  #sampletext')"
      ]
    },
    {
      "cell_type": "markdown",
      "metadata": {
        "id": "wURVABmXHk97"
      },
      "source": [
        "## Задание 3 Векторизация текстов (2 балла)"
      ]
    },
    {
      "cell_type": "markdown",
      "metadata": {
        "id": "H44iXkoHIQfN"
      },
      "source": [
        "Обучите CountVectorizer с использованием custom_tokenizer в качестве токенайзера. Как размер полученного словаря соотносится с размером изначального словаря из начала задания 2?"
      ]
    },
    {
      "cell_type": "code",
      "source": [
        "from sklearn.feature_extraction.text import CountVectorizer\n",
        "\n",
        "cv = CountVectorizer(tokenizer=custom_tokenizer)\n",
        "\n",
        "x_train = cv.fit_transform(train['OriginalTweet'])\n",
        "\n",
        "print(len(cv.vocabulary_))"
      ],
      "metadata": {
        "colab": {
          "base_uri": "https://localhost:8080/"
        },
        "id": "gHn_limQl3BI",
        "outputId": "ec3310eb-fc10-4d58-c66c-5a65d1b4c6ed"
      },
      "execution_count": 378,
      "outputs": [
        {
          "output_type": "stream",
          "name": "stderr",
          "text": [
            "/usr/local/lib/python3.11/dist-packages/sklearn/feature_extraction/text.py:517: UserWarning: The parameter 'token_pattern' will not be used since 'tokenizer' is not None'\n",
            "  warnings.warn(\n"
          ]
        },
        {
          "output_type": "stream",
          "name": "stdout",
          "text": [
            "45300\n"
          ]
        }
      ]
    },
    {
      "cell_type": "markdown",
      "metadata": {
        "id": "gsfmaSGoItUm"
      },
      "source": [
        "**Ответ:** он стал меньше, ведь мы убрали стоп слова, пунктуацию и т. д."
      ]
    },
    {
      "cell_type": "markdown",
      "metadata": {
        "id": "lm6UHNmqKZT0"
      },
      "source": [
        "Посмотрим на какой-нибудь конкретный твитт:"
      ]
    },
    {
      "cell_type": "code",
      "execution_count": 379,
      "metadata": {
        "id": "aJVjjfqOJh8m",
        "colab": {
          "base_uri": "https://localhost:8080/"
        },
        "outputId": "ee8f1a64-9f0f-40cb-f97d-d4e103f2df65"
      },
      "outputs": [
        {
          "output_type": "execute_result",
          "data": {
            "text/plain": [
              "('Nice one @SkyNews lets not panic but show ppl in france queueing for food!!! #CoronavirusOutbreak #COVID2019 brainless!! Ffs',\n",
              " np.int64(0))"
            ]
          },
          "metadata": {},
          "execution_count": 379
        }
      ],
      "source": [
        "ind = 9023\n",
        "train.iloc[ind]['OriginalTweet'], train.iloc[ind]['Sentiment']"
      ]
    },
    {
      "cell_type": "markdown",
      "metadata": {
        "id": "PBMIHBI5KdaS"
      },
      "source": [
        "Автор твитта не доволен ситуацией с едой во Франции и текст имеет резко негативную окраску.\n",
        "\n",
        "Примените обученный CountVectorizer для векторизации данного текста, и попытайтесь определить самый важный токен и самый неважный токен (токен, компонента которого в векторе максимальна/минимальна, без учета 0). Хорошо ли они определились, почему?"
      ]
    },
    {
      "cell_type": "code",
      "execution_count": 380,
      "metadata": {
        "id": "7NcAllaEKsJj",
        "colab": {
          "base_uri": "https://localhost:8080/"
        },
        "outputId": "427a7bbf-1906-4a5f-aef4-dbf71352fcdb"
      },
      "outputs": [
        {
          "output_type": "stream",
          "name": "stdout",
          "text": [
            "Самый важный токен (частота=1): #coronavirusoutbreak\n",
            "Самый неважный токен (частота=1): #coronavirusoutbreak\n"
          ]
        }
      ],
      "source": [
        "vector = cv.transform([train.iloc[ind]['OriginalTweet']])\n",
        "vector = vector.toarray()[0]\n",
        "non_zero_indexes = vector.nonzero()[0]\n",
        "non_zero_values = vector[non_zero_indexes]\n",
        "max_idx = non_zero_indexes[non_zero_values.argmax()]\n",
        "min_idx = non_zero_indexes[non_zero_values.argmin()]\n",
        "inv_vocab = {i: t for t, i in cv.vocabulary_.items()}\n",
        "max_token = inv_vocab[max_idx]\n",
        "min_token = inv_vocab[min_idx]\n",
        "print(f\"Самый важный токен (частота={vector[max_idx]}): {max_token}\")\n",
        "print(f\"Самый неважный токен (частота={vector[min_idx]}): {min_token}\")"
      ]
    },
    {
      "cell_type": "markdown",
      "metadata": {
        "id": "TpEsl1k_NF4T"
      },
      "source": [
        "**Ответ:** нет ничего не получилось, ведь он просто посчитал количество слов, а тут каждое слово встречается один раз"
      ]
    },
    {
      "cell_type": "markdown",
      "metadata": {
        "id": "w4DsEQpLO3J6"
      },
      "source": [
        "Теперь примените TfidfVectorizer и  определите самый важный/неважный токены. Хорошо ли определились, почему?"
      ]
    },
    {
      "cell_type": "code",
      "execution_count": 381,
      "metadata": {
        "id": "uSNzdK3ENGB3",
        "colab": {
          "base_uri": "https://localhost:8080/"
        },
        "outputId": "4d454190-1d08-461d-c23a-1c801afc7d3b"
      },
      "outputs": [
        {
          "output_type": "execute_result",
          "data": {
            "text/plain": [
              "<Compressed Sparse Row sparse matrix of dtype 'float64'\n",
              "\twith 443009 stored elements and shape (23410, 45300)>"
            ]
          },
          "metadata": {},
          "execution_count": 381
        }
      ],
      "source": [
        "from sklearn.feature_extraction.text import TfidfVectorizer\n",
        "\n",
        "tfidf_vec = TfidfVectorizer(tokenizer=custom_tokenizer)\n",
        "\n",
        "tfidf_vec.fit_transform(train['OriginalTweet'])"
      ]
    },
    {
      "cell_type": "code",
      "source": [
        "vector = tfidf_vec.transform([train.iloc[ind]['OriginalTweet']])\n",
        "vector = vector.toarray()[0]\n",
        "non_zero_indexes = vector.nonzero()[0]\n",
        "non_zero_values = vector[non_zero_indexes]\n",
        "max_idx = non_zero_indexes[non_zero_values.argmax()]\n",
        "min_idx = non_zero_indexes[non_zero_values.argmin()]\n",
        "inv_vocab = {i: t for t, i in cv.vocabulary_.items()}\n",
        "max_token = inv_vocab[max_idx]\n",
        "min_token = inv_vocab[min_idx]\n",
        "print(f\"Самый важный токен (частота={vector[max_idx]}): {max_token}\")\n",
        "print(f\"Самый неважный токен (частота={vector[min_idx]}): {min_token}\")"
      ],
      "metadata": {
        "colab": {
          "base_uri": "https://localhost:8080/"
        },
        "id": "Wq_YUEJGGINc",
        "outputId": "dc647940-1f28-4b06-884e-c379858b6035"
      },
      "execution_count": 382,
      "outputs": [
        {
          "output_type": "stream",
          "name": "stdout",
          "text": [
            "Самый важный токен (частота=0.3867641170466375): brainless\n",
            "Самый неважный токен (частота=0.11328893069250721): food\n"
          ]
        }
      ]
    },
    {
      "cell_type": "markdown",
      "metadata": {
        "id": "NYao_UhqQADm"
      },
      "source": [
        "**Ответ:** самый частый токен хорошо определился. Это brainless, что в принципе отражает негативное отношение автора, ну а самый не важный food. Так произошло, потому что TfidfVectorizer учитывает нетолько частоту слова в одном тексте, но он рассматривает и все другие. Если в других оно встречалось реже, то для этого текста оно будет важнее."
      ]
    },
    {
      "cell_type": "markdown",
      "metadata": {
        "id": "LGRJPqfWSesQ"
      },
      "source": [
        "Найдите какой-нибудь положительно окрашенный твитт, где TfidfVectorizer хорошо (полезно для определения окраски) выделяет важный токен, поясните пример.\n",
        "\n",
        "*Подсказка:* явно положительные твитты можно искать при помощи положительных слов (good, great, amazing и т. д.)"
      ]
    },
    {
      "cell_type": "code",
      "execution_count": 383,
      "metadata": {
        "id": "bRbQ2CHiSuJI",
        "colab": {
          "base_uri": "https://localhost:8080/",
          "height": 419
        },
        "outputId": "95c28450-dd09-4631-8344-39eb5956ce17"
      },
      "outputs": [
        {
          "output_type": "execute_result",
          "data": {
            "text/plain": [
              "       UserName  ScreenName           Location     TweetAt  \\\n",
              "4583       9362       54314   Moulton, England  19-03-2020   \n",
              "8221      13787       58739            Unknown  20-03-2020   \n",
              "3183       7654       52606    London, England  18-03-2020   \n",
              "24347     33577       78529            Unknown  05-04-2020   \n",
              "3281       7772       52724     Nairobi, Kenya  18-03-2020   \n",
              "...         ...         ...                ...         ...   \n",
              "8199      13757       58709      Wrightington   20-03-2020   \n",
              "11636     17911       62863          Australia  21-03-2020   \n",
              "23018     31918       76870  Karachi, Pakistan  04-04-2020   \n",
              "5208      10126       55078            Unknown  19-03-2020   \n",
              "469        4365       49317            TaÃ¯wan  16-03-2020   \n",
              "\n",
              "                                           OriginalTweet  Sentiment  \n",
              "4583   Hearing so many stories of NHS heroes Teachers...          1  \n",
              "8221   Let s just take a minute to say THANK YOU also...          1  \n",
              "3183   Back at the \"Frontline\"\\r\\r\\nA massive shout o...          1  \n",
              "24347  Massive thanks to @waitrose for my delivery of...          1  \n",
              "3281   Crisp clean fresh air perfect ambience Covid 1...          1  \n",
              "...                                                  ...        ...  \n",
              "8199   The support from customers this week has been ...          1  \n",
              "11636  Margot Robbie is an amazing actress, and love ...          1  \n",
              "23018  Face Mask (Pack of 5) Â Meeting the need of h...          1  \n",
              "5208   There's some amazing work going on in the worl...          1  \n",
              "469    #COVID19 19 A friend of mine in the US works a...          1  \n",
              "\n",
              "[68 rows x 6 columns]"
            ],
            "text/html": [
              "\n",
              "  <div id=\"df-1bca0375-5fee-4478-8604-a2170667acda\" class=\"colab-df-container\">\n",
              "    <div>\n",
              "<style scoped>\n",
              "    .dataframe tbody tr th:only-of-type {\n",
              "        vertical-align: middle;\n",
              "    }\n",
              "\n",
              "    .dataframe tbody tr th {\n",
              "        vertical-align: top;\n",
              "    }\n",
              "\n",
              "    .dataframe thead th {\n",
              "        text-align: right;\n",
              "    }\n",
              "</style>\n",
              "<table border=\"1\" class=\"dataframe\">\n",
              "  <thead>\n",
              "    <tr style=\"text-align: right;\">\n",
              "      <th></th>\n",
              "      <th>UserName</th>\n",
              "      <th>ScreenName</th>\n",
              "      <th>Location</th>\n",
              "      <th>TweetAt</th>\n",
              "      <th>OriginalTweet</th>\n",
              "      <th>Sentiment</th>\n",
              "    </tr>\n",
              "  </thead>\n",
              "  <tbody>\n",
              "    <tr>\n",
              "      <th>4583</th>\n",
              "      <td>9362</td>\n",
              "      <td>54314</td>\n",
              "      <td>Moulton, England</td>\n",
              "      <td>19-03-2020</td>\n",
              "      <td>Hearing so many stories of NHS heroes Teachers...</td>\n",
              "      <td>1</td>\n",
              "    </tr>\n",
              "    <tr>\n",
              "      <th>8221</th>\n",
              "      <td>13787</td>\n",
              "      <td>58739</td>\n",
              "      <td>Unknown</td>\n",
              "      <td>20-03-2020</td>\n",
              "      <td>Let s just take a minute to say THANK YOU also...</td>\n",
              "      <td>1</td>\n",
              "    </tr>\n",
              "    <tr>\n",
              "      <th>3183</th>\n",
              "      <td>7654</td>\n",
              "      <td>52606</td>\n",
              "      <td>London, England</td>\n",
              "      <td>18-03-2020</td>\n",
              "      <td>Back at the \"Frontline\"\\r\\r\\nA massive shout o...</td>\n",
              "      <td>1</td>\n",
              "    </tr>\n",
              "    <tr>\n",
              "      <th>24347</th>\n",
              "      <td>33577</td>\n",
              "      <td>78529</td>\n",
              "      <td>Unknown</td>\n",
              "      <td>05-04-2020</td>\n",
              "      <td>Massive thanks to @waitrose for my delivery of...</td>\n",
              "      <td>1</td>\n",
              "    </tr>\n",
              "    <tr>\n",
              "      <th>3281</th>\n",
              "      <td>7772</td>\n",
              "      <td>52724</td>\n",
              "      <td>Nairobi, Kenya</td>\n",
              "      <td>18-03-2020</td>\n",
              "      <td>Crisp clean fresh air perfect ambience Covid 1...</td>\n",
              "      <td>1</td>\n",
              "    </tr>\n",
              "    <tr>\n",
              "      <th>...</th>\n",
              "      <td>...</td>\n",
              "      <td>...</td>\n",
              "      <td>...</td>\n",
              "      <td>...</td>\n",
              "      <td>...</td>\n",
              "      <td>...</td>\n",
              "    </tr>\n",
              "    <tr>\n",
              "      <th>8199</th>\n",
              "      <td>13757</td>\n",
              "      <td>58709</td>\n",
              "      <td>Wrightington</td>\n",
              "      <td>20-03-2020</td>\n",
              "      <td>The support from customers this week has been ...</td>\n",
              "      <td>1</td>\n",
              "    </tr>\n",
              "    <tr>\n",
              "      <th>11636</th>\n",
              "      <td>17911</td>\n",
              "      <td>62863</td>\n",
              "      <td>Australia</td>\n",
              "      <td>21-03-2020</td>\n",
              "      <td>Margot Robbie is an amazing actress, and love ...</td>\n",
              "      <td>1</td>\n",
              "    </tr>\n",
              "    <tr>\n",
              "      <th>23018</th>\n",
              "      <td>31918</td>\n",
              "      <td>76870</td>\n",
              "      <td>Karachi, Pakistan</td>\n",
              "      <td>04-04-2020</td>\n",
              "      <td>Face Mask (Pack of 5) Â Meeting the need of h...</td>\n",
              "      <td>1</td>\n",
              "    </tr>\n",
              "    <tr>\n",
              "      <th>5208</th>\n",
              "      <td>10126</td>\n",
              "      <td>55078</td>\n",
              "      <td>Unknown</td>\n",
              "      <td>19-03-2020</td>\n",
              "      <td>There's some amazing work going on in the worl...</td>\n",
              "      <td>1</td>\n",
              "    </tr>\n",
              "    <tr>\n",
              "      <th>469</th>\n",
              "      <td>4365</td>\n",
              "      <td>49317</td>\n",
              "      <td>TaÃ¯wan</td>\n",
              "      <td>16-03-2020</td>\n",
              "      <td>#COVID19 19 A friend of mine in the US works a...</td>\n",
              "      <td>1</td>\n",
              "    </tr>\n",
              "  </tbody>\n",
              "</table>\n",
              "<p>68 rows × 6 columns</p>\n",
              "</div>\n",
              "    <div class=\"colab-df-buttons\">\n",
              "\n",
              "  <div class=\"colab-df-container\">\n",
              "    <button class=\"colab-df-convert\" onclick=\"convertToInteractive('df-1bca0375-5fee-4478-8604-a2170667acda')\"\n",
              "            title=\"Convert this dataframe to an interactive table.\"\n",
              "            style=\"display:none;\">\n",
              "\n",
              "  <svg xmlns=\"http://www.w3.org/2000/svg\" height=\"24px\" viewBox=\"0 -960 960 960\">\n",
              "    <path d=\"M120-120v-720h720v720H120Zm60-500h600v-160H180v160Zm220 220h160v-160H400v160Zm0 220h160v-160H400v160ZM180-400h160v-160H180v160Zm440 0h160v-160H620v160ZM180-180h160v-160H180v160Zm440 0h160v-160H620v160Z\"/>\n",
              "  </svg>\n",
              "    </button>\n",
              "\n",
              "  <style>\n",
              "    .colab-df-container {\n",
              "      display:flex;\n",
              "      gap: 12px;\n",
              "    }\n",
              "\n",
              "    .colab-df-convert {\n",
              "      background-color: #E8F0FE;\n",
              "      border: none;\n",
              "      border-radius: 50%;\n",
              "      cursor: pointer;\n",
              "      display: none;\n",
              "      fill: #1967D2;\n",
              "      height: 32px;\n",
              "      padding: 0 0 0 0;\n",
              "      width: 32px;\n",
              "    }\n",
              "\n",
              "    .colab-df-convert:hover {\n",
              "      background-color: #E2EBFA;\n",
              "      box-shadow: 0px 1px 2px rgba(60, 64, 67, 0.3), 0px 1px 3px 1px rgba(60, 64, 67, 0.15);\n",
              "      fill: #174EA6;\n",
              "    }\n",
              "\n",
              "    .colab-df-buttons div {\n",
              "      margin-bottom: 4px;\n",
              "    }\n",
              "\n",
              "    [theme=dark] .colab-df-convert {\n",
              "      background-color: #3B4455;\n",
              "      fill: #D2E3FC;\n",
              "    }\n",
              "\n",
              "    [theme=dark] .colab-df-convert:hover {\n",
              "      background-color: #434B5C;\n",
              "      box-shadow: 0px 1px 3px 1px rgba(0, 0, 0, 0.15);\n",
              "      filter: drop-shadow(0px 1px 2px rgba(0, 0, 0, 0.3));\n",
              "      fill: #FFFFFF;\n",
              "    }\n",
              "  </style>\n",
              "\n",
              "    <script>\n",
              "      const buttonEl =\n",
              "        document.querySelector('#df-1bca0375-5fee-4478-8604-a2170667acda button.colab-df-convert');\n",
              "      buttonEl.style.display =\n",
              "        google.colab.kernel.accessAllowed ? 'block' : 'none';\n",
              "\n",
              "      async function convertToInteractive(key) {\n",
              "        const element = document.querySelector('#df-1bca0375-5fee-4478-8604-a2170667acda');\n",
              "        const dataTable =\n",
              "          await google.colab.kernel.invokeFunction('convertToInteractive',\n",
              "                                                    [key], {});\n",
              "        if (!dataTable) return;\n",
              "\n",
              "        const docLinkHtml = 'Like what you see? Visit the ' +\n",
              "          '<a target=\"_blank\" href=https://colab.research.google.com/notebooks/data_table.ipynb>data table notebook</a>'\n",
              "          + ' to learn more about interactive tables.';\n",
              "        element.innerHTML = '';\n",
              "        dataTable['output_type'] = 'display_data';\n",
              "        await google.colab.output.renderOutput(dataTable, element);\n",
              "        const docLink = document.createElement('div');\n",
              "        docLink.innerHTML = docLinkHtml;\n",
              "        element.appendChild(docLink);\n",
              "      }\n",
              "    </script>\n",
              "  </div>\n",
              "\n",
              "\n",
              "    <div id=\"df-67b7be63-89f3-497c-b055-84620153854f\">\n",
              "      <button class=\"colab-df-quickchart\" onclick=\"quickchart('df-67b7be63-89f3-497c-b055-84620153854f')\"\n",
              "                title=\"Suggest charts\"\n",
              "                style=\"display:none;\">\n",
              "\n",
              "<svg xmlns=\"http://www.w3.org/2000/svg\" height=\"24px\"viewBox=\"0 0 24 24\"\n",
              "     width=\"24px\">\n",
              "    <g>\n",
              "        <path d=\"M19 3H5c-1.1 0-2 .9-2 2v14c0 1.1.9 2 2 2h14c1.1 0 2-.9 2-2V5c0-1.1-.9-2-2-2zM9 17H7v-7h2v7zm4 0h-2V7h2v10zm4 0h-2v-4h2v4z\"/>\n",
              "    </g>\n",
              "</svg>\n",
              "      </button>\n",
              "\n",
              "<style>\n",
              "  .colab-df-quickchart {\n",
              "      --bg-color: #E8F0FE;\n",
              "      --fill-color: #1967D2;\n",
              "      --hover-bg-color: #E2EBFA;\n",
              "      --hover-fill-color: #174EA6;\n",
              "      --disabled-fill-color: #AAA;\n",
              "      --disabled-bg-color: #DDD;\n",
              "  }\n",
              "\n",
              "  [theme=dark] .colab-df-quickchart {\n",
              "      --bg-color: #3B4455;\n",
              "      --fill-color: #D2E3FC;\n",
              "      --hover-bg-color: #434B5C;\n",
              "      --hover-fill-color: #FFFFFF;\n",
              "      --disabled-bg-color: #3B4455;\n",
              "      --disabled-fill-color: #666;\n",
              "  }\n",
              "\n",
              "  .colab-df-quickchart {\n",
              "    background-color: var(--bg-color);\n",
              "    border: none;\n",
              "    border-radius: 50%;\n",
              "    cursor: pointer;\n",
              "    display: none;\n",
              "    fill: var(--fill-color);\n",
              "    height: 32px;\n",
              "    padding: 0;\n",
              "    width: 32px;\n",
              "  }\n",
              "\n",
              "  .colab-df-quickchart:hover {\n",
              "    background-color: var(--hover-bg-color);\n",
              "    box-shadow: 0 1px 2px rgba(60, 64, 67, 0.3), 0 1px 3px 1px rgba(60, 64, 67, 0.15);\n",
              "    fill: var(--button-hover-fill-color);\n",
              "  }\n",
              "\n",
              "  .colab-df-quickchart-complete:disabled,\n",
              "  .colab-df-quickchart-complete:disabled:hover {\n",
              "    background-color: var(--disabled-bg-color);\n",
              "    fill: var(--disabled-fill-color);\n",
              "    box-shadow: none;\n",
              "  }\n",
              "\n",
              "  .colab-df-spinner {\n",
              "    border: 2px solid var(--fill-color);\n",
              "    border-color: transparent;\n",
              "    border-bottom-color: var(--fill-color);\n",
              "    animation:\n",
              "      spin 1s steps(1) infinite;\n",
              "  }\n",
              "\n",
              "  @keyframes spin {\n",
              "    0% {\n",
              "      border-color: transparent;\n",
              "      border-bottom-color: var(--fill-color);\n",
              "      border-left-color: var(--fill-color);\n",
              "    }\n",
              "    20% {\n",
              "      border-color: transparent;\n",
              "      border-left-color: var(--fill-color);\n",
              "      border-top-color: var(--fill-color);\n",
              "    }\n",
              "    30% {\n",
              "      border-color: transparent;\n",
              "      border-left-color: var(--fill-color);\n",
              "      border-top-color: var(--fill-color);\n",
              "      border-right-color: var(--fill-color);\n",
              "    }\n",
              "    40% {\n",
              "      border-color: transparent;\n",
              "      border-right-color: var(--fill-color);\n",
              "      border-top-color: var(--fill-color);\n",
              "    }\n",
              "    60% {\n",
              "      border-color: transparent;\n",
              "      border-right-color: var(--fill-color);\n",
              "    }\n",
              "    80% {\n",
              "      border-color: transparent;\n",
              "      border-right-color: var(--fill-color);\n",
              "      border-bottom-color: var(--fill-color);\n",
              "    }\n",
              "    90% {\n",
              "      border-color: transparent;\n",
              "      border-bottom-color: var(--fill-color);\n",
              "    }\n",
              "  }\n",
              "</style>\n",
              "\n",
              "      <script>\n",
              "        async function quickchart(key) {\n",
              "          const quickchartButtonEl =\n",
              "            document.querySelector('#' + key + ' button');\n",
              "          quickchartButtonEl.disabled = true;  // To prevent multiple clicks.\n",
              "          quickchartButtonEl.classList.add('colab-df-spinner');\n",
              "          try {\n",
              "            const charts = await google.colab.kernel.invokeFunction(\n",
              "                'suggestCharts', [key], {});\n",
              "          } catch (error) {\n",
              "            console.error('Error during call to suggestCharts:', error);\n",
              "          }\n",
              "          quickchartButtonEl.classList.remove('colab-df-spinner');\n",
              "          quickchartButtonEl.classList.add('colab-df-quickchart-complete');\n",
              "        }\n",
              "        (() => {\n",
              "          let quickchartButtonEl =\n",
              "            document.querySelector('#df-67b7be63-89f3-497c-b055-84620153854f button');\n",
              "          quickchartButtonEl.style.display =\n",
              "            google.colab.kernel.accessAllowed ? 'block' : 'none';\n",
              "        })();\n",
              "      </script>\n",
              "    </div>\n",
              "\n",
              "    </div>\n",
              "  </div>\n"
            ],
            "application/vnd.google.colaboratory.intrinsic+json": {
              "type": "dataframe",
              "repr_error": "0"
            }
          },
          "metadata": {},
          "execution_count": 383
        }
      ],
      "source": [
        "train[train['OriginalTweet'].apply(lambda x: 'amazing' in x) & (train['Sentiment'] == 1)]"
      ]
    },
    {
      "cell_type": "code",
      "source": [
        "ind = 8221\n",
        "train.loc[ind]['OriginalTweet']"
      ],
      "metadata": {
        "id": "jSjbKPCWk87K",
        "colab": {
          "base_uri": "https://localhost:8080/",
          "height": 52
        },
        "outputId": "badce6e4-d625-40b0-d94e-783e8aaf48c6"
      },
      "execution_count": 384,
      "outputs": [
        {
          "output_type": "execute_result",
          "data": {
            "text/plain": [
              "'Let s just take a minute to say THANK YOU also to the amazing postal workers So many real people behind a click of online shopping and getting cards delivered Thank   you   19'"
            ],
            "application/vnd.google.colaboratory.intrinsic+json": {
              "type": "string"
            }
          },
          "metadata": {},
          "execution_count": 384
        }
      ]
    },
    {
      "cell_type": "code",
      "source": [
        "vector = tfidf_vec.transform([train.loc[ind]['OriginalTweet']])\n",
        "vector = vector.toarray()[0]\n",
        "non_zero_indexes = vector.nonzero()[0]\n",
        "non_zero_values = vector[non_zero_indexes]\n",
        "max_idx = non_zero_indexes[non_zero_values.argmax()]\n",
        "min_idx = non_zero_indexes[non_zero_values.argmin()]\n",
        "inv_vocab = {i: t for t, i in cv.vocabulary_.items()}\n",
        "max_token = inv_vocab[max_idx]\n",
        "min_token = inv_vocab[min_idx]\n",
        "print(f\"Самый важный токен (частота={vector[max_idx]}): {max_token}\")\n",
        "print(f\"Самый неважный токен (частота={vector[min_idx]}): {min_token}\")"
      ],
      "metadata": {
        "colab": {
          "base_uri": "https://localhost:8080/"
        },
        "id": "mjA5ejbLMKsd",
        "outputId": "82711152-2bf0-4b53-ca80-9afe13e765d7"
      },
      "execution_count": 385,
      "outputs": [
        {
          "output_type": "stream",
          "name": "stdout",
          "text": [
            "Самый важный токен (частота=0.3691299729428482): thank\n",
            "Самый неважный токен (частота=0.08634631973114962): 19\n"
          ]
        }
      ]
    },
    {
      "cell_type": "markdown",
      "metadata": {
        "id": "JTv9ST2_U6NA"
      },
      "source": [
        "**Ответ:** по слову thank можно понять, что кто-то кого-то благодорит и что этот твит имеет скорее всего положительный окрас."
      ]
    },
    {
      "cell_type": "markdown",
      "metadata": {
        "id": "JVEuZm8BHms6"
      },
      "source": [
        "## Задание 4 Обучение первых моделей (1 балл)"
      ]
    },
    {
      "cell_type": "markdown",
      "metadata": {
        "id": "JADkO3sfXdOG"
      },
      "source": [
        "Примените оба векторайзера для получения матриц с признаками текстов.  Выделите целевую переменную."
      ]
    },
    {
      "cell_type": "code",
      "execution_count": 386,
      "metadata": {
        "id": "DguoiXhCX2oN",
        "colab": {
          "base_uri": "https://localhost:8080/"
        },
        "outputId": "34bb16ac-57b2-4c24-a11d-0dc27fc66345"
      },
      "outputs": [
        {
          "output_type": "stream",
          "name": "stderr",
          "text": [
            "/usr/local/lib/python3.11/dist-packages/sklearn/feature_extraction/text.py:517: UserWarning: The parameter 'token_pattern' will not be used since 'tokenizer' is not None'\n",
            "  warnings.warn(\n"
          ]
        }
      ],
      "source": [
        "vec = CountVectorizer(tokenizer=custom_tokenizer)\n",
        "x_train_vec = vec.fit_transform(train['OriginalTweet'])\n",
        "x_test_vec = vec.transform(test['OriginalTweet'])\n",
        "\n",
        "tfidf_vec = TfidfVectorizer(tokenizer=custom_tokenizer)\n",
        "x_train_tfidf = tfidf_vec.fit_transform(train['OriginalTweet'])\n",
        "x_test_tfidf = tfidf_vec.transform(test['OriginalTweet'])"
      ]
    },
    {
      "cell_type": "code",
      "source": [
        "y_train = train['Sentiment']\n",
        "y_test = test['Sentiment']"
      ],
      "metadata": {
        "id": "vEkxt564zIv6"
      },
      "execution_count": 387,
      "outputs": []
    },
    {
      "cell_type": "markdown",
      "metadata": {
        "id": "_FX1KSOfYSx4"
      },
      "source": [
        "Обучите логистическую регрессию на векторах из обоих векторайзеров. Посчитайте долю правильных ответов на обучающих и тестовых данных. Какой векторайзер показал лучший результат? Что можно сказать о моделях?\n",
        "\n",
        "Используйте `sparse` матрицы (после векторизации), не превращайте их в `numpy.ndarray` или `pd.DataFrame` - может не хватить памяти."
      ]
    },
    {
      "cell_type": "code",
      "execution_count": 388,
      "metadata": {
        "id": "-Tb3eh8UXJ6v"
      },
      "outputs": [],
      "source": [
        "from sklearn.linear_model import LogisticRegression\n",
        "from sklearn.metrics import accuracy_score"
      ]
    },
    {
      "cell_type": "code",
      "source": [
        "log_reg_cv = LogisticRegression()\n",
        "log_reg_cv.fit(x_train_vec, y_train)\n",
        "accuracy_train_cv = accuracy_score(y_train, log_reg_cv.predict(x_train_vec))\n",
        "accuracy_test_cv = accuracy_score(y_test, log_reg_cv.predict(x_test_vec))\n",
        "print(f'CountVectorizer доля правильных ответов на обучающей выборке: {accuracy_train_cv}, на тестовой: {accuracy_test_cv}')"
      ],
      "metadata": {
        "colab": {
          "base_uri": "https://localhost:8080/"
        },
        "id": "D3THNCTf1bZr",
        "outputId": "3b4a28f0-9688-4213-8fe6-770a47632703"
      },
      "execution_count": 389,
      "outputs": [
        {
          "output_type": "stream",
          "name": "stdout",
          "text": [
            "CountVectorizer доля правильных ответов на обучающей выборке: 0.9844510892780863, на тестовой: 0.8675503288818018\n"
          ]
        }
      ]
    },
    {
      "cell_type": "code",
      "source": [
        "log_reg_tfdif = LogisticRegression()\n",
        "log_reg_tfdif.fit(x_train_tfidf, y_train)\n",
        "accuracy_train_tdfid = accuracy_score(y_train, log_reg_tfdif.predict(x_train_tfidf))\n",
        "accuracy_test_tfdif = accuracy_score(y_test, log_reg_tfdif.predict(x_test_tfidf))\n",
        "print(f'TfdifVectorizer доля правильных ответов на обучающей выборке: {accuracy_train_tdfid}, на тестовой: {accuracy_test_tfdif}')"
      ],
      "metadata": {
        "colab": {
          "base_uri": "https://localhost:8080/"
        },
        "id": "pNY_VEte1YpI",
        "outputId": "0afec5d1-16b5-4f37-f959-52da75dbf028"
      },
      "execution_count": 390,
      "outputs": [
        {
          "output_type": "stream",
          "name": "stdout",
          "text": [
            "TfdifVectorizer доля правильных ответов на обучающей выборке: 0.9225117471166169, на тестовой: 0.8527008172214471\n"
          ]
        }
      ]
    },
    {
      "cell_type": "markdown",
      "metadata": {
        "id": "8y_wO7rCmv7K"
      },
      "source": [
        "**Ответ:** На обучающей выборке у CountVectorizer доля правильных отеветов больше, чем у TfdifVectorizer, и близка к 1, что может говорить о переобучении. А на тестовой выборке доля правильных ответов почти одинаковая."
      ]
    },
    {
      "cell_type": "markdown",
      "metadata": {
        "id": "rSOR1i3mjrys"
      },
      "source": [
        "## Задание 5 Стемминг (0.5 балла)"
      ]
    },
    {
      "cell_type": "markdown",
      "metadata": {
        "id": "i6ONBWNPjuq-"
      },
      "source": [
        "Для уменьшения словаря можно использовать стемминг.\n",
        "\n",
        "Модифицируйте написанный токенайзер, добавив в него стемминг с использованием SnowballStemmer. Обучите Count- и Tfidf- векторайзеры. Как изменился размер словаря?"
      ]
    },
    {
      "cell_type": "code",
      "execution_count": 391,
      "metadata": {
        "id": "oVfA2-iMkQBb"
      },
      "outputs": [],
      "source": [
        "from nltk.stem.snowball import SnowballStemmer\n",
        "stemmer = SnowballStemmer(\"english\")\n",
        "def custom_stem_tokenizer(text):\n",
        "  text = text.lower()\n",
        "  tmp_tokens = []\n",
        "  tmp_tokens.extend(tw_tokenizer.tokenize(text))\n",
        "  tokens = [stemmer.stem(t) for t in tmp_tokens if t not in noise and not t.startswith('https://t.co') and not (len(t) == 1 and ord(t) >= 128)]\n",
        "  return tokens"
      ]
    },
    {
      "cell_type": "code",
      "execution_count": 392,
      "metadata": {
        "colab": {
          "base_uri": "https://localhost:8080/"
        },
        "id": "9QmrjYtqnlPd",
        "outputId": "b5390ba6-feb7-4039-97ef-a846eaf4fce5"
      },
      "outputs": [
        {
          "output_type": "execute_result",
          "data": {
            "text/plain": [
              "['sampl', 'text', '@sample_text', '#sampletext', 'ad', 'word', 'check', 'stem']"
            ]
          },
          "metadata": {},
          "execution_count": 392
        }
      ],
      "source": [
        "custom_stem_tokenizer('This is sample text!!!! @Sample_text I, \\x92\\x92 https://t.co/sample  #sampletext adding more words to check stemming')"
      ]
    },
    {
      "cell_type": "code",
      "execution_count": 393,
      "metadata": {
        "colab": {
          "base_uri": "https://localhost:8080/"
        },
        "id": "zAvUTmaplzOS",
        "outputId": "05ff34e6-005f-4ece-c406-a5974cbca722"
      },
      "outputs": [
        {
          "output_type": "stream",
          "name": "stderr",
          "text": [
            "/usr/local/lib/python3.11/dist-packages/sklearn/feature_extraction/text.py:517: UserWarning: The parameter 'token_pattern' will not be used since 'tokenizer' is not None'\n",
            "  warnings.warn(\n"
          ]
        },
        {
          "output_type": "stream",
          "name": "stdout",
          "text": [
            "36644\n"
          ]
        }
      ],
      "source": [
        "cv = CountVectorizer(tokenizer=custom_stem_tokenizer)\n",
        "x_train_vec = cv.fit_transform(train['OriginalTweet'])\n",
        "x_test_vec = cv.transform(test['OriginalTweet'])\n",
        "print(len(cv.vocabulary_))"
      ]
    },
    {
      "cell_type": "code",
      "source": [
        "tfdif_vec = TfidfVectorizer(tokenizer=custom_stem_tokenizer)\n",
        "x_train_tfidf = tfdif_vec.fit_transform(train['OriginalTweet'])\n",
        "x_test_tfidf = tfdif_vec.transform(test['OriginalTweet'])\n",
        "print(len(tfdif_vec.vocabulary_))"
      ],
      "metadata": {
        "colab": {
          "base_uri": "https://localhost:8080/"
        },
        "id": "g9Rh1TF9_51Y",
        "outputId": "0cd25170-46d7-4770-8a06-99450e4e7a77"
      },
      "execution_count": 394,
      "outputs": [
        {
          "output_type": "stream",
          "name": "stdout",
          "text": [
            "36644\n"
          ]
        }
      ]
    },
    {
      "cell_type": "markdown",
      "metadata": {
        "id": "Oyzs5TaAoHP6"
      },
      "source": [
        "**Ответ** Размер словаря уменьшился приблизительно на 10000."
      ]
    },
    {
      "cell_type": "markdown",
      "metadata": {
        "id": "1OkncHI8oRmd"
      },
      "source": [
        "Обучите логистическую регрессию с использованием обоих векторайзеров. Изменилось ли качество? Есть ли смысл применять стемминг?"
      ]
    },
    {
      "cell_type": "code",
      "execution_count": 395,
      "metadata": {
        "id": "ykZJPphEoZ5W",
        "colab": {
          "base_uri": "https://localhost:8080/"
        },
        "outputId": "463cea6d-d133-4ea0-f497-1f351a92cf99"
      },
      "outputs": [
        {
          "output_type": "stream",
          "name": "stdout",
          "text": [
            "CountVectorizer доля правильных ответов на обучающей выборке: 0.9718923536950022, на тестовой: 0.8673510065776361\n"
          ]
        }
      ],
      "source": [
        "log_reg_cv = LogisticRegression()\n",
        "log_reg_cv.fit(x_train_vec, y_train)\n",
        "accuracy_train_cv = accuracy_score(y_train, log_reg_cv.predict(x_train_vec))\n",
        "accuracy_test_cv = accuracy_score(y_test, log_reg_cv.predict(x_test_vec))\n",
        "print(f'CountVectorizer доля правильных ответов на обучающей выборке: {accuracy_train_cv}, на тестовой: {accuracy_test_cv}')"
      ]
    },
    {
      "cell_type": "code",
      "source": [
        "log_reg_tfdif = LogisticRegression()\n",
        "log_reg_tfdif.fit(x_train_tfidf, y_train)\n",
        "accuracy_train_tdfid = accuracy_score(y_train, log_reg_tfdif.predict(x_train_tfidf))\n",
        "accuracy_test_tfdif = accuracy_score(y_test, log_reg_tfdif.predict(x_test_tfidf))\n",
        "print(f'TfdifVectorizer доля правильных ответов на обучающей выборке: {accuracy_train_tdfid}, на тестовой: {accuracy_test_tfdif}')"
      ],
      "metadata": {
        "colab": {
          "base_uri": "https://localhost:8080/"
        },
        "id": "ud_QsTtv_2HF",
        "outputId": "e2bebb1e-7792-470e-d485-2e919e9edc15"
      },
      "execution_count": 396,
      "outputs": [
        {
          "output_type": "stream",
          "name": "stdout",
          "text": [
            "TfdifVectorizer доля правильных ответов на обучающей выборке: 0.9159333618111918, на тестовой: 0.8566872633047639\n"
          ]
        }
      ]
    },
    {
      "cell_type": "markdown",
      "metadata": {
        "id": "bCRlrODro0h8"
      },
      "source": [
        "**Ответ:** почти ничего не изменилось, имеет смысл использовать стемминг только для оптимизации. На 10000 уменьшился размер признакового пространства."
      ]
    },
    {
      "cell_type": "markdown",
      "metadata": {
        "id": "hYWGQNEDqLC-"
      },
      "source": [
        "## Задание  6 Работа с частотами (1.5 балла)"
      ]
    },
    {
      "cell_type": "markdown",
      "metadata": {
        "id": "8Hq-tl5mqUSn"
      },
      "source": [
        "Еще один способ уменьшить количество признаков - это использовать параметры min_df и max_df при построении векторайзера  эти параметры помогают ограничить требуемую частоту встречаемости токена в документах.\n",
        "\n",
        "По умолчанию берутся все токены, которые встретились хотя бы один раз.\n",
        "\n"
      ]
    },
    {
      "cell_type": "markdown",
      "metadata": {
        "id": "m1SiD4DE3WZ2"
      },
      "source": [
        "Подберите max_df такой, что размер словаря будет 36651 (на 1 меньше, чем было). Почему параметр получился такой большой/маленький?"
      ]
    },
    {
      "cell_type": "code",
      "source": [
        "cv_df = CountVectorizer(tokenizer=custom_stem_tokenizer,\n",
        "                        max_df=0.3\n",
        "                        ).fit(\n",
        "                            train['OriginalTweet']\n",
        "                            )\n",
        "print(len(cv_df.vocabulary_))"
      ],
      "metadata": {
        "colab": {
          "base_uri": "https://localhost:8080/"
        },
        "id": "o3YLb8PViExb",
        "outputId": "2eb57d81-c099-4f0f-d6d1-3bbd67234e1c"
      },
      "execution_count": 397,
      "outputs": [
        {
          "output_type": "stream",
          "name": "stderr",
          "text": [
            "/usr/local/lib/python3.11/dist-packages/sklearn/feature_extraction/text.py:517: UserWarning: The parameter 'token_pattern' will not be used since 'tokenizer' is not None'\n",
            "  warnings.warn(\n"
          ]
        },
        {
          "output_type": "stream",
          "name": "stdout",
          "text": [
            "36643\n"
          ]
        }
      ]
    },
    {
      "cell_type": "markdown",
      "metadata": {
        "id": "UdZYoGZR4UsA"
      },
      "source": [
        "**Ответ:** у меня изначально было 36644, и получилось, что при max_df=0.3 можео добится уменьшения размера словаря на 1. То есть мы игнорируем все слова, которые встречаются в более чем 30% твитов. Получается: таких слов было мало."
      ]
    },
    {
      "cell_type": "markdown",
      "metadata": {
        "id": "_gRIUaB1u32f"
      },
      "source": [
        "Подберите min_df (используйте дефолтное значение max_df) в CountVectorizer таким образом, чтобы размер словаря был 3700 токенов (при использовании токенайзера со стеммингом), а качество осталось таким же, как и было. Что можно сказать о результатах?"
      ]
    },
    {
      "cell_type": "code",
      "execution_count": 398,
      "metadata": {
        "colab": {
          "base_uri": "https://localhost:8080/"
        },
        "id": "kSnMJkn9XmsT",
        "outputId": "5505f309-0ffb-4d74-b4c9-a4d0806a1ae2"
      },
      "outputs": [
        {
          "output_type": "stream",
          "name": "stdout",
          "text": [
            "3687\n"
          ]
        }
      ],
      "source": [
        "cv_df = CountVectorizer(tokenizer=custom_stem_tokenizer,\n",
        "                        min_df=11\n",
        "                        ).fit(\n",
        "                            train['OriginalTweet']\n",
        "                            )\n",
        "print(len(cv_df.vocabulary_))"
      ]
    },
    {
      "cell_type": "code",
      "source": [
        "x_train = cv_df.transform(train['OriginalTweet'])\n",
        "x_test = cv_df.transform(test['OriginalTweet'])\n",
        "log_reg = LogisticRegression()\n",
        "log_reg.fit(x_train, y_train)\n",
        "accuracy_train_cv = accuracy_score(y_train, log_reg.predict(x_train))\n",
        "accuracy_test_cv = accuracy_score(y_test, log_reg.predict(x_test))\n",
        "print(f'CountVectorizer доля правильных ответов на обучающей выборке: {accuracy_train_cv}, на тестовой: {accuracy_test_cv}')"
      ],
      "metadata": {
        "id": "mvMDwpdfjm8Y",
        "colab": {
          "base_uri": "https://localhost:8080/"
        },
        "outputId": "25d2acae-34e3-40e1-b9c7-2a603e5f446b"
      },
      "execution_count": 399,
      "outputs": [
        {
          "output_type": "stream",
          "name": "stdout",
          "text": [
            "CountVectorizer доля правильных ответов на обучающей выборке: 0.9290046988466467, на тестовой: 0.8680486346422165\n"
          ]
        }
      ]
    },
    {
      "cell_type": "markdown",
      "metadata": {
        "id": "3fGYpUIZx0fk"
      },
      "source": [
        "**Ответ:** у нас полчилось то, что мы хотели, убрав редко встречающиеся слова, качество модели не изменилось, а значит они были не так важны. min_df=11, значит мы убрали те слова, которые встречаются меньше чем в 11 документах."
      ]
    },
    {
      "cell_type": "markdown",
      "source": [
        "В предыдущих заданиях признаки не скалировались. Отскалируйте данные (при словаре размера 3.7 тысяч, векторизованные CountVectorizer), обучите логистическую регрессию, посмотрите качество и выведите `barplot`, содержащий по 10 токенов, с наибольшим по модулю положительными/отрицательными весами. Что можно сказать об этих токенах?"
      ],
      "metadata": {
        "id": "Gx_h_-inKbBl"
      }
    },
    {
      "cell_type": "code",
      "source": [
        "from sklearn.preprocessing import StandardScaler\n",
        "\n",
        "scaler = StandardScaler(with_mean=False)\n",
        "x_train_scaled = scaler.fit_transform(x_train)\n",
        "x_test_scaled = scaler.transform(x_test)"
      ],
      "metadata": {
        "id": "KBATXJX6LG9q"
      },
      "execution_count": 400,
      "outputs": []
    },
    {
      "cell_type": "code",
      "source": [
        "log_reg = LogisticRegression(C=0.1)\n",
        "log_reg.fit(x_train_scaled, y_train)\n",
        "accuracy_train_cv = accuracy_score(y_train, log_reg.predict(x_train_scaled))\n",
        "accuracy_test_cv = accuracy_score(y_test, log_reg.predict(x_test_scaled))\n",
        "print(f'CountVectorizer доля правильных ответов на обучающей выборке: {accuracy_train_cv}, на тестовой: {accuracy_test_cv}')"
      ],
      "metadata": {
        "colab": {
          "base_uri": "https://localhost:8080/"
        },
        "id": "G-fFftiUKSgZ",
        "outputId": "4b1779c6-93b7-433a-bc3b-aa07d34f3f30"
      },
      "execution_count": 401,
      "outputs": [
        {
          "output_type": "stream",
          "name": "stdout",
          "text": [
            "CountVectorizer доля правильных ответов на обучающей выборке: 0.9408799658265699, на тестовой: 0.8474187761610524\n"
          ]
        }
      ]
    },
    {
      "cell_type": "code",
      "source": [
        "feautures_names = np.array(cv_df.get_feature_names_out())\n",
        "weights = log_reg.coef_[0]\n",
        "top_pos_idx = np.argsort(weights)[-10:]\n",
        "top_neg_ids = np.argsort(weights)[:10]"
      ],
      "metadata": {
        "id": "TtSf0-3RV9Ti"
      },
      "execution_count": 402,
      "outputs": []
    },
    {
      "cell_type": "code",
      "source": [
        "plt.figure(figsize=(12, 6))\n",
        "\n",
        "plt.barh(feautures_names[top_pos_idx], weights[top_pos_idx], color='green', label='положительные')\n",
        "plt.barh(feautures_names[top_neg_ids], weights[top_neg_ids], color='red', label='отрицательные')\n",
        "plt.title('10 токенов с наибольшими по модулю положительными/отрицательными весами')\n",
        "plt.grid(True)\n",
        "plt.legend()\n",
        "plt.xlabel('Вес признака')\n",
        "plt.show()"
      ],
      "metadata": {
        "colab": {
          "base_uri": "https://localhost:8080/",
          "height": 564
        },
        "id": "mobhasejYbiH",
        "outputId": "5070936a-4595-4620-bee1-d39bc1e7b5f1"
      },
      "execution_count": 403,
      "outputs": [
        {
          "output_type": "display_data",
          "data": {
            "text/plain": [
              "<Figure size 1200x600 with 1 Axes>"
            ],
            "image/png": "[encoded data removed]"
          },
          "metadata": {}
        }
      ]
    },
    {
      "cell_type": "markdown",
      "source": [
        "**Ответ:** логистическая регрессия больше переобучилась, но все равно результаты несильно отличаются от предыдущих. А по токенам видно, что слова по типо помощь, лучший, замечательный, безопасный и т. д. имеют наибольшие положительные веса и \"говорят\" о том, что тональность твита положительная. Слова: смерть, страх и т. д. говорят о том, что твит скорее всего отрицательной окраски."
      ],
      "metadata": {
        "id": "ThcEfzY1LHET"
      }
    },
    {
      "cell_type": "markdown",
      "metadata": {
        "id": "ktJVOdrIHq7B"
      },
      "source": [
        "## Задание 7 Другие признаки (1.5 балла)"
      ]
    },
    {
      "cell_type": "markdown",
      "metadata": {
        "id": "Yt3jRCZ2H0Og"
      },
      "source": [
        "Мы были сконцентрированы на работе с текстами твиттов и не использовали другие признаки - имена пользователя, дату и местоположение"
      ]
    },
    {
      "cell_type": "markdown",
      "metadata": {
        "id": "52wjewCCo_di"
      },
      "source": [
        "Изучите признаки UserName и ScreenName. полезны ли они? Если полезны, то закодируйте их, добавьте к матрице с отскалированными признаками, обучите логистическую регрессию, замерьте качество."
      ]
    },
    {
      "cell_type": "code",
      "execution_count": 404,
      "metadata": {
        "id": "63thouYZptj6",
        "colab": {
          "base_uri": "https://localhost:8080/"
        },
        "outputId": "ec584372-e758-47a5-8941-66c6ec83d829"
      },
      "outputs": [
        {
          "output_type": "execute_result",
          "data": {
            "text/plain": [
              "23410"
            ]
          },
          "metadata": {},
          "execution_count": 404
        }
      ],
      "source": [
        "# посмотрим, встречаются ли достаточно часто различные имена\n",
        "train['UserName'].nunique()"
      ]
    },
    {
      "cell_type": "code",
      "source": [
        "train.shape"
      ],
      "metadata": {
        "colab": {
          "base_uri": "https://localhost:8080/"
        },
        "id": "-Knp9Lcgj4En",
        "outputId": "61f50c4c-6790-4512-f603-226057c73741"
      },
      "execution_count": 405,
      "outputs": [
        {
          "output_type": "execute_result",
          "data": {
            "text/plain": [
              "(23410, 6)"
            ]
          },
          "metadata": {},
          "execution_count": 405
        }
      ]
    },
    {
      "cell_type": "code",
      "source": [
        "train['ScreenName'].nunique()"
      ],
      "metadata": {
        "colab": {
          "base_uri": "https://localhost:8080/"
        },
        "id": "Ie6yCTO8j9NP",
        "outputId": "a9394526-d118-4ce7-a4f0-ef264ceb759e"
      },
      "execution_count": 406,
      "outputs": [
        {
          "output_type": "execute_result",
          "data": {
            "text/plain": [
              "23410"
            ]
          },
          "metadata": {},
          "execution_count": 406
        }
      ]
    },
    {
      "cell_type": "markdown",
      "metadata": {
        "id": "r8_qR-gnpT3a"
      },
      "source": [
        "**Ответ:** видим, что у нас в обучающем наборе столько же имен сколько и самих объектов, то есть у каждого объекта уникальный User/Screen Name и это нам ничем не поможет для построения лучшей модели."
      ]
    },
    {
      "cell_type": "markdown",
      "metadata": {
        "id": "ythEcFSkt7y3"
      },
      "source": [
        "Изучите признак TweetAt в обучающей выборке: преобразуйте его к типу datetime и нарисуйте его гистограмму с разделением по цвету на основе целевой переменной. Полезен ли он? Если полезен, то закодируйте его, добавьте к матрице с отскалированными признаками, обучите логистическую регрессию, замерьте качество."
      ]
    },
    {
      "cell_type": "code",
      "source": [
        "train['TweetAt'] = pd.to_datetime(train['TweetAt'], dayfirst=True)\n",
        "\n",
        "plt.figure(figsize=(12, 6))\n",
        "plt.hist(train[train['Sentiment'] == 0]['TweetAt'], color='red', alpha=0.5, label='negative', bins=50, histtype='step')\n",
        "plt.hist(train[train['Sentiment'] == 1]['TweetAt'], color='green', alpha=0.5, label='positive', bins=50, histtype='step')\n",
        "plt.legend()\n",
        "plt.grid(True)\n",
        "plt.title('TweetAt')\n",
        "plt.show()"
      ],
      "metadata": {
        "id": "Lxb_k0JLirNv",
        "colab": {
          "base_uri": "https://localhost:8080/",
          "height": 545
        },
        "outputId": "5968380e-e2cd-41c0-e01b-1348cba126ac"
      },
      "execution_count": 407,
      "outputs": [
        {
          "output_type": "display_data",
          "data": {
            "text/plain": [
              "<Figure size 1200x600 with 1 Axes>"
            ],
            "image/png": "[encoded data removed]"
          },
          "metadata": {}
        }
      ]
    },
    {
      "cell_type": "markdown",
      "metadata": {
        "id": "4IdLBdpQxM-G"
      },
      "source": [
        "**Ответ:** видим, нет того времени, когда преимущественно были твиты одного время, да конечно, когда-то одного типа было больше, но это не так значительно.\n",
        "\n"
      ]
    },
    {
      "cell_type": "markdown",
      "source": [
        "Поработайте с признаком Location в обучающей выборке. Сколько уникальных значений?"
      ],
      "metadata": {
        "id": "r2JtRPhNP6qx"
      }
    },
    {
      "cell_type": "code",
      "source": [
        "print(f'Уникальных значений Location в train: {train[\"Location\"].nunique()}')"
      ],
      "metadata": {
        "id": "xYQZQ1FRNpoe",
        "colab": {
          "base_uri": "https://localhost:8080/"
        },
        "outputId": "0df8b5db-02a2-4db7-e32a-adc59c4c7bb7"
      },
      "execution_count": 408,
      "outputs": [
        {
          "output_type": "stream",
          "name": "stdout",
          "text": [
            "Уникальных значений Location в train: 7949\n"
          ]
        }
      ]
    },
    {
      "cell_type": "markdown",
      "source": [
        "Постройте гистограмму топ-10 по популярности местоположений (исключая Unknown)"
      ],
      "metadata": {
        "id": "6k4JwpRTQISa"
      }
    },
    {
      "cell_type": "code",
      "source": [
        "top_locations = train[train['Location'] != 'Unknown']['Location'].value_counts().head(10)\n",
        "plt.figure(figsize=(12, 6))\n",
        "top_locations.plot(kind='bar', color='skyblue')\n",
        "plt.title('Топ 10 местоположений по популярности')\n",
        "plt.xlabel('Местоположение')\n",
        "plt.ylabel('Количество твитов')\n",
        "plt.show()"
      ],
      "metadata": {
        "id": "J91YkhegJ0mz",
        "colab": {
          "base_uri": "https://localhost:8080/",
          "height": 666
        },
        "outputId": "d5178a02-e6dd-4e54-f413-6cc23954a472"
      },
      "execution_count": 409,
      "outputs": [
        {
          "output_type": "display_data",
          "data": {
            "text/plain": [
              "<Figure size 1200x600 with 1 Axes>"
            ],
            "image/png": "[encoded data removed]"
          },
          "metadata": {}
        }
      ]
    },
    {
      "cell_type": "markdown",
      "source": [
        "Видно, что многие местоположения включают в себя более точное название места, чем другие (Например, у некоторых стоит London, UK; а у некоторых просто UK или United Kingdom).\n",
        "\n",
        "Создайте новый признак WiderLocation, который содержит самое широкое местоположение (например, из London, UK должно получиться UK). Сколько уникальных категорий теперь? Постройте аналогичную гистограмму."
      ],
      "metadata": {
        "id": "ZOsv3lODTfYB"
      }
    },
    {
      "cell_type": "code",
      "source": [
        "train['WiderLocation'] = train['Location'].apply(lambda l: l.split(',')[-1].strip())"
      ],
      "metadata": {
        "id": "mSkow6acOMyD"
      },
      "execution_count": 410,
      "outputs": []
    },
    {
      "cell_type": "code",
      "source": [
        "print(f'Стало уникальных значений Location в train: {train[\"WiderLocation\"].nunique()}')"
      ],
      "metadata": {
        "colab": {
          "base_uri": "https://localhost:8080/"
        },
        "id": "1qsJiXiD22An",
        "outputId": "193341f0-d892-405e-bd1c-d8a85e0eac7e"
      },
      "execution_count": 411,
      "outputs": [
        {
          "output_type": "stream",
          "name": "stdout",
          "text": [
            "Стало уникальных значений Location в train: 4631\n"
          ]
        }
      ]
    },
    {
      "cell_type": "code",
      "source": [
        "top_locations = train[train['WiderLocation'] != 'Unknown']['WiderLocation'].value_counts().head(10)\n",
        "plt.figure(figsize=(12, 6))\n",
        "top_locations.plot(kind='bar', color='skyblue')\n",
        "plt.title('Топ 10 местоположений по популярности')\n",
        "plt.xlabel('Местоположение')\n",
        "plt.ylabel('Количество твитов')\n",
        "plt.show()"
      ],
      "metadata": {
        "colab": {
          "base_uri": "https://localhost:8080/",
          "height": 661
        },
        "id": "O-Bf3Y6V4Uno",
        "outputId": "f9697452-2db6-488c-c45a-0a5d8387213e"
      },
      "execution_count": 412,
      "outputs": [
        {
          "output_type": "display_data",
          "data": {
            "text/plain": [
              "<Figure size 1200x600 with 1 Axes>"
            ],
            "image/png": "[encoded data removed]"
          },
          "metadata": {}
        }
      ]
    },
    {
      "cell_type": "markdown",
      "source": [
        "Закодируйте признак WiderLocation с помощью OHE таким образом, чтобы создались только столбцы для местоположений, которые встречаются более одного раза. Сколько таких значений?\n"
      ],
      "metadata": {
        "id": "cgyWrD2eVfff"
      }
    },
    {
      "cell_type": "code",
      "source": [
        "test['WiderLocation'] = test['Location'].apply(lambda l: l.split(',')[-1].strip())"
      ],
      "metadata": {
        "id": "I7b1Bhw28nhY"
      },
      "execution_count": 413,
      "outputs": []
    },
    {
      "cell_type": "code",
      "source": [
        "from sklearn.preprocessing import OneHotEncoder\n",
        "\n",
        "ohe = OneHotEncoder(handle_unknown='ignore', min_frequency=2, drop='first')\n",
        "location_encoded_train = ohe.fit_transform(train[['WiderLocation']])\n",
        "location_encoded_test = ohe.transform(test[['WiderLocation']])\n",
        "\n",
        "print(f\"Количество уникальных WiderLocation, встречающихся более одного раза: {location_encoded_train.shape[1]}\")"
      ],
      "metadata": {
        "id": "SeJBfBWgPvg_",
        "colab": {
          "base_uri": "https://localhost:8080/"
        },
        "outputId": "eff92c8d-c1e8-4189-93c3-f6a210bf5fed"
      },
      "execution_count": 415,
      "outputs": [
        {
          "output_type": "stream",
          "name": "stdout",
          "text": [
            "Количество уникальных WiderLocation, встречающихся более одного раза: 988\n"
          ]
        },
        {
          "output_type": "stream",
          "name": "stderr",
          "text": [
            "/usr/local/lib/python3.11/dist-packages/sklearn/preprocessing/_encoders.py:246: UserWarning: Found unknown categories in columns [0] during transform. These unknown categories will be encoded as all zeros\n",
            "  warnings.warn(\n"
          ]
        }
      ]
    },
    {
      "cell_type": "markdown",
      "source": [
        "Добавьте этот признак к матрице отскалированных текстовых признаков, обучите логистическую регрессию, замерьте качество. Как оно изменилось? Оказался ли признак полезным?\n",
        "\n",
        "\n",
        "*Подсказка:* используйте параметр `categories` в энкодере."
      ],
      "metadata": {
        "id": "ZyMX5kZuimPK"
      }
    },
    {
      "cell_type": "code",
      "source": [
        "from scipy.sparse import hstack\n",
        "\n",
        "x_train_scaled = hstack([x_train_scaled, location_encoded_train])\n",
        "x_test_scaled = hstack([x_test_scaled, location_encoded_test])"
      ],
      "metadata": {
        "id": "EO1jNPeeim7A"
      },
      "execution_count": 416,
      "outputs": []
    },
    {
      "cell_type": "code",
      "source": [
        "log_reg = LogisticRegression(max_iter=10000)\n",
        "log_reg.fit(x_train_scaled, y_train)\n",
        "accuracy_train = accuracy_score(y_train, log_reg.predict(x_train_scaled))\n",
        "accuracy_test = accuracy_score(y_test, log_reg.predict(x_test_scaled))\n",
        "print(f'Доля правильных ответов на обучающей выборке: {accuracy_train}')\n",
        "print(f'Доля правильных ответов на тестовой выборке: {accuracy_test}')"
      ],
      "metadata": {
        "colab": {
          "base_uri": "https://localhost:8080/"
        },
        "id": "eiE3des6_LUp",
        "outputId": "ac3cad8e-8873-466e-9848-b389fafddf49"
      },
      "execution_count": 417,
      "outputs": [
        {
          "output_type": "stream",
          "name": "stdout",
          "text": [
            "Доля правильных ответов на обучающей выборке: 0.9456215292609996\n",
            "Доля правильных ответов на тестовой выборке: 0.8440302969902332\n"
          ]
        }
      ]
    },
    {
      "cell_type": "markdown",
      "source": [
        "**Ответ:** доля верных ответов не изменилась, но если посмотреть на то, у каких признаков самые большие веса, то можно увидеть, что в топе появились признаки из Location. Так что в принципе этот признак содержит полезную информацию, хотя без него качество тоже."
      ],
      "metadata": {
        "id": "7dHsGlDRYUQt"
      }
    },
    {
      "cell_type": "code",
      "source": [
        "features_names = np.concatenate([cv_df.get_feature_names_out(), ohe.categories_[0]])\n",
        "weights = log_reg.coef_[0]\n",
        "top_pos_idx = np.argsort(weights)[-10:]\n",
        "top_neg_ids = np.argsort(weights)[:10]"
      ],
      "metadata": {
        "id": "LJ5sRVgcJS9T"
      },
      "execution_count": 418,
      "outputs": []
    },
    {
      "cell_type": "code",
      "source": [
        "plt.figure(figsize=(12, 6))\n",
        "\n",
        "plt.barh(features_names[top_pos_idx], weights[top_pos_idx], color='green', label='положительные')\n",
        "plt.barh(features_names[top_neg_ids], weights[top_neg_ids], color='red', label='отрицательные')\n",
        "plt.title('10 признаков наибольшими по модулю положительными/отрицательными весами')\n",
        "plt.grid(True)\n",
        "plt.legend()\n",
        "plt.xlabel('Вес признака')\n",
        "plt.show()"
      ],
      "metadata": {
        "id": "FyXXioJRKlJA",
        "outputId": "0df94b33-1081-4db0-bcd8-6231d7d990f8",
        "colab": {
          "base_uri": "https://localhost:8080/",
          "height": 564
        }
      },
      "execution_count": 419,
      "outputs": [
        {
          "output_type": "display_data",
          "data": {
            "text/plain": [
              "<Figure size 1200x600 with 1 Axes>"
            ],
            "image/png": "[encoded data removed]"
          },
          "metadata": {}
        }
      ]
    }
  ],
  "metadata": {
    "colab": {
      "provenance": [],
      "collapsed_sections": [
        "J9RrPUsJlL60",
        "wURVABmXHk97",
        "JVEuZm8BHms6",
        "rSOR1i3mjrys"
      ]
    },
    "kernelspec": {
      "display_name": "Python 3 (ipykernel)",
      "name": "python3",
      "language": "python"
    },
    "language_info": {
      "name": "python"
    }
  },
  "nbformat": 4,
  "nbformat_minor": 0
}